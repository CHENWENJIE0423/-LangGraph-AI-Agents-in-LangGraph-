{
 "cells": [
  {
   "cell_type": "code",
   "execution_count": 4,
   "id": "c2a5d2af-4ac1-4cef-96bb-745ce4d7a3d2",
   "metadata": {},
   "outputs": [],
   "source": [
    "import openai\n",
    "import re\n",
    "import httpx\n",
    "import os\n"
   ]
  },
  {
   "cell_type": "code",
   "execution_count": 6,
   "id": "804987af-106c-4de8-8e49-513d544a2cbf",
   "metadata": {},
   "outputs": [],
   "source": [
    "from openai import OpenAI\n",
    "client = OpenAI(base_url= \"https://api.zhizengzeng.com/v1/\",\n",
    "                api_key= \"sk-zk282c91e7660ee3aefc73a38060adc99596725965513925\")"
   ]
  },
  {
   "cell_type": "code",
   "execution_count": 8,
   "id": "8aa05051-2cc4-47b9-9b81-b6b816d4aea5",
   "metadata": {},
   "outputs": [],
   "source": [
    "class Agent:\n",
    "    def __init__(self,system=\"\"):\n",
    "        self.system=system\n",
    "        self.messages=[]\n",
    "        if self.system:\n",
    "            self.messages.append({\"role\":\"system\",\"content\":system})\n",
    "\n",
    "    def __call__(self,message):\n",
    "        self.messages.append({\"role\":\"user\",\"content\":message})\n",
    "        result=self.execute()\n",
    "        self.messages.append({\"role\":\"assistant\",\"content\":result})\n",
    "        return result\n",
    "\n",
    "    def execute(self):\n",
    "        completion=client.chat.completions.create(\n",
    "            model=\"yi-medium\",\n",
    "            temperature=0,\n",
    "            messages=self.messages\n",
    "        )\n",
    "        return completion.choices[0].message.content"
   ]
  },
  {
   "cell_type": "code",
   "execution_count": 10,
   "id": "7f102b1f-cac4-4f86-86a9-b8b019d289f0",
   "metadata": {},
   "outputs": [],
   "source": [
    "prompt = \"\"\"\n",
    "You run in a loop of Thought, Action, PAUSE, Observation.\n",
    "At the end of the loop you output an Answer\n",
    "Use Thought to describe your thoughts about the question you have been asked.\n",
    "Use Action to run one of the actions available to you - then return PAUSE.\n",
    "Observation will be the result of running those actions.\n",
    "\n",
    "Your available actions are:\n",
    "\n",
    "calculate:\n",
    "e.g. calculate: 4 * 7 / 3\n",
    "Runs a calculation and returns the number - uses Python so be sure to use floating point syntax if necessary\n",
    "\n",
    "average_dog_weight:\n",
    "e.g. average_dog_weight: Collie\n",
    "returns average weight of a dog when given the breed\n",
    "\n",
    "Example session:\n",
    "\n",
    "Question: How much does a Bulldog weigh?\n",
    "Thought: I should look the dogs weight using average_dog_weight\n",
    "Action: average_dog_weight: Bulldog\n",
    "PAUSE\n",
    "\n",
    "You will be called again with this:\n",
    "\n",
    "Observation: A Bulldog weights 51 lbs\n",
    "\n",
    "You then output:\n",
    "\n",
    "Answer: A bulldog weights 51 lbs\n",
    "\"\"\".strip()"
   ]
  },
  {
   "cell_type": "code",
   "execution_count": 12,
   "id": "96279f37-0833-4fee-a48e-5fd4acebb360",
   "metadata": {},
   "outputs": [],
   "source": [
    "def calculate(what):\n",
    "    return eval(what)\n",
    "\n",
    "def average_dog_weight(name):\n",
    "    if name in \"Scottish Terrier\": \n",
    "        return(\"Scottish Terriers average 20 lbs\")\n",
    "    elif name in \"Border Collie\":\n",
    "        return(\"a Border Collies average weight is 37 lbs\")\n",
    "    elif name in \"Toy Poodle\":\n",
    "        return(\"a toy poodles average weight is 7 lbs\")\n",
    "    else:\n",
    "        return(\"An average dog weights 50 lbs\")\n",
    "\n",
    "known_actions={\n",
    "    \"calculate\":calculate,\n",
    "    \"average_dog_weight\":average_dog_weight\n",
    "}"
   ]
  },
  {
   "cell_type": "code",
   "execution_count": 14,
   "id": "6f4e9ebe-e720-42be-aec0-b405044987cc",
   "metadata": {},
   "outputs": [],
   "source": [
    "abot=Agent(prompt)"
   ]
  },
  {
   "cell_type": "code",
   "execution_count": 16,
   "id": "1eb4fb77-1f20-4a0d-a698-c45a59427ff0",
   "metadata": {},
   "outputs": [
    {
     "data": {
      "text/plain": [
       "'Thought: I should look up the average weight of a toy poodle using the average_dog_weight action.\\nAction: average_dog_weight: Poodle (Toy)\\nPAUSE'"
      ]
     },
     "execution_count": 16,
     "metadata": {},
     "output_type": "execute_result"
    }
   ],
   "source": [
    "result=abot(\"How much does a toy poodle weight\")\n",
    "result"
   ]
  },
  {
   "cell_type": "code",
   "execution_count": 18,
   "id": "0bc89a8d-b0be-49a3-a99f-a7c546d74998",
   "metadata": {},
   "outputs": [
    {
     "name": "stdout",
     "output_type": "stream",
     "text": [
      "Thought: I should look up the average weight of a toy poodle using the average_dog_weight action.\n",
      "Action: average_dog_weight: Poodle (Toy)\n",
      "PAUSE\n"
     ]
    }
   ],
   "source": [
    "print(result)"
   ]
  },
  {
   "cell_type": "code",
   "execution_count": 20,
   "id": "bfbcbf25-050f-47d9-83e7-2fd13e9cd421",
   "metadata": {},
   "outputs": [
    {
     "data": {
      "text/plain": [
       "'a toy poodles average weight is 7 lbs'"
      ]
     },
     "execution_count": 20,
     "metadata": {},
     "output_type": "execute_result"
    }
   ],
   "source": [
    "result = average_dog_weight(\"Toy Poodle\")\n",
    "result"
   ]
  },
  {
   "cell_type": "code",
   "execution_count": 22,
   "id": "5731475d-6d99-4ce7-8b30-b98fee0fb848",
   "metadata": {},
   "outputs": [],
   "source": [
    "next_prompt=\"Observation: {}\".format(result)"
   ]
  },
  {
   "cell_type": "code",
   "execution_count": 24,
   "id": "5601111f-1bbd-4c3b-b12e-7393ed38db17",
   "metadata": {},
   "outputs": [
    {
     "data": {
      "text/plain": [
       "'Answer: A toy poodle typically weighs around 7 lbs.'"
      ]
     },
     "execution_count": 24,
     "metadata": {},
     "output_type": "execute_result"
    }
   ],
   "source": [
    "abot(next_prompt)"
   ]
  },
  {
   "cell_type": "code",
   "execution_count": 28,
   "id": "9f4bebcb-2773-491d-bf8a-fdec89eee79a",
   "metadata": {},
   "outputs": [
    {
     "data": {
      "text/plain": [
       "[{'role': 'system',\n",
       "  'content': 'You run in a loop of Thought, Action, PAUSE, Observation.\\nAt the end of the loop you output an Answer\\nUse Thought to describe your thoughts about the question you have been asked.\\nUse Action to run one of the actions available to you - then return PAUSE.\\nObservation will be the result of running those actions.\\n\\nYour available actions are:\\n\\ncalculate:\\ne.g. calculate: 4 * 7 / 3\\nRuns a calculation and returns the number - uses Python so be sure to use floating point syntax if necessary\\n\\naverage_dog_weight:\\ne.g. average_dog_weight: Collie\\nreturns average weight of a dog when given the breed\\n\\nExample session:\\n\\nQuestion: How much does a Bulldog weigh?\\nThought: I should look the dogs weight using average_dog_weight\\nAction: average_dog_weight: Bulldog\\nPAUSE\\n\\nYou will be called again with this:\\n\\nObservation: A Bulldog weights 51 lbs\\n\\nYou then output:\\n\\nAnswer: A bulldog weights 51 lbs'},\n",
       " {'role': 'user', 'content': 'How much does a toy poodle weight'},\n",
       " {'role': 'assistant',\n",
       "  'content': 'Thought: I should look up the average weight of a toy poodle using the average_dog_weight action.\\nAction: average_dog_weight: Poodle (Toy)\\nPAUSE'},\n",
       " {'role': 'user',\n",
       "  'content': 'Observation: a toy poodles average weight is 7 lbs'},\n",
       " {'role': 'assistant',\n",
       "  'content': 'Answer: A toy poodle typically weighs around 7 lbs.'}]"
      ]
     },
     "execution_count": 28,
     "metadata": {},
     "output_type": "execute_result"
    }
   ],
   "source": [
    "abot.messages"
   ]
  },
  {
   "cell_type": "code",
   "execution_count": 30,
   "id": "70f5a579-58f3-42a4-8b43-97d16477297f",
   "metadata": {},
   "outputs": [],
   "source": [
    "class Agent:\n",
    "    def __init__(self,system=\"\"):\n",
    "        self.system=system\n",
    "        self.messages=[]\n",
    "        if self.system:\n",
    "            self.messages.append({\"role\":\"system\",\"content\":system})\n",
    "\n",
    "    def __call__(self,message):\n",
    "        self.messages.append({\"role\":\"user\",\"content\":message})\n",
    "        result=self.execute()\n",
    "        self.messages.append({\"role\":\"assistant\",\"content\":result})\n",
    "        return result\n",
    "\n",
    "    def execute(self):\n",
    "        completion=client.chat.completions.create(\n",
    "            model=\"yi-large\",\n",
    "            temperature=0,\n",
    "            messages=self.messages\n",
    "        )\n",
    "        return completion.choices[0].message.content"
   ]
  },
  {
   "cell_type": "code",
   "execution_count": 32,
   "id": "2c18aef1-820e-445d-9717-c45693a0cdc6",
   "metadata": {},
   "outputs": [],
   "source": [
    "abot=Agent(prompt)"
   ]
  },
  {
   "cell_type": "code",
   "execution_count": 34,
   "id": "a2e2e5bf-4a63-49ca-abb8-c6ef68a3eb6e",
   "metadata": {},
   "outputs": [
    {
     "data": {
      "text/plain": [
       "\"Thought: To find the combined weight of the two dogs, I need to look up the average weight of each breed using the 'average_dog_weight' action, and then calculate the sum of their weights.\\n\\nAction: average_dog_weight: Border Collie\\nPAUSE\""
      ]
     },
     "execution_count": 34,
     "metadata": {},
     "output_type": "execute_result"
    }
   ],
   "source": [
    "question = \"\"\"I have 2 dogs, a border collie and a scottish terrier. \\\n",
    "What is their combined weight\"\"\"\n",
    "abot(question)"
   ]
  },
  {
   "cell_type": "code",
   "execution_count": 36,
   "id": "ffa31de7-28b6-4b42-a25a-e653a9462679",
   "metadata": {},
   "outputs": [
    {
     "name": "stdout",
     "output_type": "stream",
     "text": [
      "Thought: To find the combined weight of the two dogs, I need to look up the average weight of each breed using the 'average_dog_weight' action, and then calculate the sum of their weights.\n",
      "\n",
      "Action: average_dog_weight: Border Collie\n",
      "PAUSE\n"
     ]
    }
   ],
   "source": [
    "print(abot.messages[-1]['content'])"
   ]
  },
  {
   "cell_type": "code",
   "execution_count": 38,
   "id": "5c39453c-28b8-4c24-9161-236abf15d816",
   "metadata": {},
   "outputs": [
    {
     "name": "stdout",
     "output_type": "stream",
     "text": [
      "Observation: a Border Collies average weight is 37 lbs\n"
     ]
    }
   ],
   "source": [
    "next_prompt = \"Observation: {}\".format(average_dog_weight(\"Border Collie\"))\n",
    "print(next_prompt)"
   ]
  },
  {
   "cell_type": "code",
   "execution_count": 40,
   "id": "cdb3bbbf-8b57-4e40-a2c9-81cc326ab288",
   "metadata": {},
   "outputs": [
    {
     "data": {
      "text/plain": [
       "'Thought: Now that I have the average weight of a Border Collie, I need to find the average weight of a Scottish Terrier.\\n\\nAction: average_dog_weight: Scottish Terrier\\nPAUSE'"
      ]
     },
     "execution_count": 40,
     "metadata": {},
     "output_type": "execute_result"
    }
   ],
   "source": [
    "abot(next_prompt)"
   ]
  },
  {
   "cell_type": "code",
   "execution_count": 42,
   "id": "3cecf10d-90a5-4df7-bd2e-26eb7a475f23",
   "metadata": {},
   "outputs": [
    {
     "name": "stdout",
     "output_type": "stream",
     "text": [
      "Observation: Scottish Terriers average 20 lbs\n"
     ]
    }
   ],
   "source": [
    "next_prompt = \"Observation: {}\".format(average_dog_weight(\"Scottish Terrier\"))\n",
    "print(next_prompt)"
   ]
  },
  {
   "cell_type": "code",
   "execution_count": 44,
   "id": "9601c61c-8795-458a-a183-949be94dc110",
   "metadata": {},
   "outputs": [
    {
     "data": {
      "text/plain": [
       "'Thought: With the average weights of both breeds, I can now calculate their combined weight.\\n\\nAction: calculate: 37 + 20\\nPAUSE'"
      ]
     },
     "execution_count": 44,
     "metadata": {},
     "output_type": "execute_result"
    }
   ],
   "source": [
    "abot(next_prompt)"
   ]
  },
  {
   "cell_type": "code",
   "execution_count": 46,
   "id": "9d8268f4-8aa9-4f7f-a568-822180515cb0",
   "metadata": {},
   "outputs": [
    {
     "name": "stdout",
     "output_type": "stream",
     "text": [
      "Observation: 57\n"
     ]
    }
   ],
   "source": [
    "next_prompt = \"Observation: {}\".format(eval(\"37 + 20\"))\n",
    "print(next_prompt)"
   ]
  },
  {
   "cell_type": "code",
   "execution_count": 48,
   "id": "9d4da707-048f-4cee-87b6-4bef48141584",
   "metadata": {},
   "outputs": [
    {
     "data": {
      "text/plain": [
       "'Answer: The combined weight of a Border Collie and a Scottish Terrier is 57 pounds.'"
      ]
     },
     "execution_count": 48,
     "metadata": {},
     "output_type": "execute_result"
    }
   ],
   "source": [
    "abot(next_prompt)"
   ]
  },
  {
   "cell_type": "markdown",
   "id": "2d4535cd-baf7-4385-a3e3-de8e140ebb52",
   "metadata": {},
   "source": [
    "## Add Loop"
   ]
  },
  {
   "cell_type": "code",
   "execution_count": 53,
   "id": "1feedf58-6baa-483d-97ed-a1f6fd36edb2",
   "metadata": {},
   "outputs": [],
   "source": [
    "import re\n",
    "\n",
    "# 使用原始字符串 r'' 表示正则表达式\n",
    "action_re = re.compile(r'^Action: (\\w+): (.*)$')"
   ]
  },
  {
   "cell_type": "code",
   "execution_count": 55,
   "id": "6ad1ec60-b3c9-417e-86b9-fdfd4a9586a2",
   "metadata": {},
   "outputs": [],
   "source": [
    "def query(question,max_turns=5):\n",
    "    i=0\n",
    "    bot=Agent(prompt)\n",
    "    next_prompt=question\n",
    "    while i<max_turns:\n",
    "        i+=1\n",
    "        result=bot(next_prompt)\n",
    "        print(result)\n",
    "        actions=[\n",
    "            action_re.match(a)\n",
    "            for a in result.split('\\n')\n",
    "            if action_re.match(a)\n",
    "        ]\n",
    "        if actions:\n",
    "            action,action_input=actions[0].groups()\n",
    "            if action not in known_actions:\n",
    "                raise Exception(\"Unknown action: {}: {}\".format(action, action_input))\n",
    "            print(\" -- running {} {}\".format(action, action_input))\n",
    "            observation = known_actions[action](action_input)\n",
    "            print(\"Observation:\", observation)\n",
    "            next_prompt = \"Observation: {}\".format(observation)\n",
    "        else:\n",
    "            return"
   ]
  },
  {
   "cell_type": "code",
   "execution_count": 57,
   "id": "5ce6ebe8-b7b4-4a1e-84ad-896d55e247f4",
   "metadata": {},
   "outputs": [
    {
     "name": "stdout",
     "output_type": "stream",
     "text": [
      "Thought: To find the combined weight of the two dogs, I need to look up the average weight of each breed using the 'average_dog_weight' action, and then calculate the sum of their weights.\n",
      "\n",
      "Action: average_dog_weight: Border Collie\n",
      "PAUSE\n",
      " -- running average_dog_weight Border Collie\n",
      "Observation: a Border Collies average weight is 37 lbs\n",
      "Thought: Now that I have the average weight of a Border Collie, I need to find the average weight of a Scottish Terrier.\n",
      "\n",
      "Action: average_dog_weight: Scottish Terrier\n",
      "PAUSE\n",
      " -- running average_dog_weight Scottish Terrier\n",
      "Observation: Scottish Terriers average 20 lbs\n",
      "Thought: With the average weights of both breeds, I can now calculate their combined weight.\n",
      "\n",
      "Action: calculate: 37 + 20\n",
      "PAUSE\n",
      " -- running calculate 37 + 20\n",
      "Observation: 57\n",
      "Answer: The combined weight of a Border Collie and a Scottish Terrier is approximately 57 pounds.\n"
     ]
    }
   ],
   "source": [
    "question = \"\"\"I have 2 dogs, a border collie and a scottish terrier. \\\n",
    "What is their combined weight\"\"\"\n",
    "query(question)"
   ]
  },
  {
   "cell_type": "code",
   "execution_count": null,
   "id": "383ed8d2-63d5-4af2-a19e-5b12a851c81a",
   "metadata": {},
   "outputs": [],
   "source": []
  }
 ],
 "metadata": {
  "kernelspec": {
   "display_name": "Python 3 (ipykernel)",
   "language": "python",
   "name": "python3"
  },
  "language_info": {
   "codemirror_mode": {
    "name": "ipython",
    "version": 3
   },
   "file_extension": ".py",
   "mimetype": "text/x-python",
   "name": "python",
   "nbconvert_exporter": "python",
   "pygments_lexer": "ipython3",
   "version": "3.12.3"
  }
 },
 "nbformat": 4,
 "nbformat_minor": 5
}
