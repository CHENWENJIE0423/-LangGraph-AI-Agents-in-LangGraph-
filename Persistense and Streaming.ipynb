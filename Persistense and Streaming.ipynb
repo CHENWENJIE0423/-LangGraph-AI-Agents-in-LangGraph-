{
 "cells": [
  {
   "cell_type": "code",
   "execution_count": 2,
   "id": "3e599e40-2aea-4001-b87c-190b84028675",
   "metadata": {},
   "outputs": [],
   "source": [
    "from langgraph.graph import StateGraph,END\n",
    "from typing import TypedDict,Annotated\n",
    "import operator\n",
    "from langchain_core.messages import AnyMessage,SystemMessage,HumanMessage\n",
    "from langchain_openai import ChatOpenAI\n",
    "from langchain_community.tools.tavily_search import TavilySearchResults\n",
    "from langchain_core.messages import ToolMessage"
   ]
  },
  {
   "cell_type": "code",
   "execution_count": 3,
   "id": "53cbf6c2-6f28-40d2-bc8a-5a189bb6b83d",
   "metadata": {},
   "outputs": [],
   "source": [
    "# 直接传入 tavily_api_key 参数\n",
    "tool = TavilySearchResults(tavily_api_key=\"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\", max_results=2)\n",
    "\n",
    "# 或者设置环境变量并使用\n",
    "import os\n",
    "os.environ[\"TAVILY_API_KEY\"] = \"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\"\n",
    "tool = TavilySearchResults(max_results=2)"
   ]
  },
  {
   "cell_type": "code",
   "execution_count": 4,
   "id": "7332cf8f-33df-44ff-822c-d89100eb6a43",
   "metadata": {},
   "outputs": [],
   "source": [
    "class AgentState(TypedDict):\n",
    "    messages:Annotated[list[AnyMessage],operator.add]"
   ]
  },
  {
   "cell_type": "code",
   "execution_count": 5,
   "id": "a57c3fdc-4cdd-47df-889b-d8c90128cf52",
   "metadata": {},
   "outputs": [],
   "source": [
    "# from langgraph.checkpoint.sqlite import SqliteSaver\n",
    "\n",
    "# memory = SqliteSaver.from_conn_string(\":memory:\")\n",
    "from langgraph.checkpoint.memory import MemorySaver\n",
    "\n",
    "# 使用 MemorySaver 来代替 SqliteSaver\n",
    "memory = MemorySaver()"
   ]
  },
  {
   "cell_type": "code",
   "execution_count": 6,
   "id": "4adcba2b-22d0-4b48-a108-cd4e22d12d7e",
   "metadata": {},
   "outputs": [],
   "source": [
    "class Agent:\n",
    "    def __init__(self,model,tools,checkpointer,system=\"\"):\n",
    "        self.system=system\n",
    "        graph=StateGraph(AgentState)\n",
    "        graph.add_node(\"llm\",self.call_openai)\n",
    "        graph.add_node(\"action\",self.take_action)\n",
    "        graph.add_conditional_edges(\n",
    "            \"llm\",\n",
    "            self.exists_action,\n",
    "            {True:\"action\",False:END}\n",
    "        )\n",
    "        graph.add_edge(\"action\",\"llm\")\n",
    "        graph.set_entry_point(\"llm\")\n",
    "        self.graph=graph.compile(checkpointer=checkpointer)\n",
    "        self.tools={t.name:t for t in tools}\n",
    "        self.model=model.bind_tools(tools)\n",
    "\n",
    "    def exists_action(self, state: AgentState):\n",
    "        result = state['messages'][-1]\n",
    "        return len(result.tool_calls) > 0\n",
    "\n",
    "    def call_openai(self, state: AgentState):\n",
    "        messages = state['messages']\n",
    "        if self.system:\n",
    "            messages = [SystemMessage(content=self.system)] + messages\n",
    "        message = self.model.invoke(messages)\n",
    "        return {'messages': [message]}\n",
    "\n",
    "    def take_action(self, state: AgentState):\n",
    "        import threading\n",
    "        print(f\"take_action called in thread: {threading.current_thread().name}\")\n",
    "        tool_calls = state['messages'][-1].tool_calls\n",
    "        results = []\n",
    "        print(f\"take_action called with tool_calls: {tool_calls}\")\n",
    "        for t in tool_calls:\n",
    "            print(f\"Calling: {t}\") \n",
    "            if not t['name'] in self.tools:      # check for bad tool name from LLM\n",
    "                print(\"\\n ....bad tool name....\")\n",
    "                result = \"bad tool name, retry\"  # instruct LLM to retry if bad\n",
    "            else:\n",
    "                result = self.tools[t['name']].invoke(t['args'])\n",
    "                print(f\"action {t['name']}, result: {result}\")\n",
    "            results.append(ToolMessage(tool_call_id=t['id'], name=t['name'], content=str(result)))\n",
    "        print(\"Back to the model!\")\n",
    "        return {'messages': results}"
   ]
  },
  {
   "cell_type": "code",
   "execution_count": 7,
   "id": "010e24cd-650a-4348-a0aa-94da5e46f775",
   "metadata": {},
   "outputs": [],
   "source": [
    "prompt = \"\"\"You are a smart research assistant. Use the search engine to look up information. \\\n",
    "You are allowed to make multiple calls (either together or in sequence). \\\n",
    "Only look up information when you are sure of what you want. \\\n",
    "If you need to look up some information before asking a follow up question, you are allowed to do that!\n",
    "\"\"\"\n",
    "model = ChatOpenAI(base_url= \"https://api.zhizengzeng.com/v1/\",\n",
    "                api_key= \"sk-zk282c91e7660ee3aefc73a38060adc99596725965513925\",\n",
    "                  model=\"gpt-4o\")\n",
    "abot = Agent(model, [tool], system=prompt, checkpointer=memory)"
   ]
  },
  {
   "cell_type": "code",
   "execution_count": 8,
   "id": "1a3f196a-a82a-4ec1-bf35-96387579d056",
   "metadata": {},
   "outputs": [],
   "source": [
    "messages=[HumanMessage(content=\"What is the weather in sf?\")]"
   ]
  },
  {
   "cell_type": "code",
   "execution_count": 9,
   "id": "5bee4175-4eec-4441-afad-14fa2bfd1acc",
   "metadata": {},
   "outputs": [],
   "source": [
    "thread={\"configurable\":{\"thread_id\":\"1\"}}"
   ]
  },
  {
   "cell_type": "code",
   "execution_count": 10,
   "id": "71f517b6-42a9-4088-80f1-ac93c9a33c37",
   "metadata": {},
   "outputs": [
    {
     "name": "stdout",
     "output_type": "stream",
     "text": [
      "[AIMessage(content='', additional_kwargs={'tool_calls': [{'id': 'call_oX89qFMEULJYr76x73Hfpepc', 'function': {'arguments': '{\"query\":\"San Francisco weather today\"}', 'name': 'tavily_search_results_json'}, 'type': 'function'}], 'refusal': None}, response_metadata={'token_usage': {'completion_tokens': 21, 'prompt_tokens': 151, 'total_tokens': 172, 'completion_tokens_details': {'accepted_prediction_tokens': 0, 'audio_tokens': 0, 'reasoning_tokens': 0, 'rejected_prediction_tokens': 0}, 'prompt_tokens_details': {'audio_tokens': 0, 'cached_tokens': 0}}, 'model_name': 'gpt-4o', 'system_fingerprint': 'fp_62f96df568', 'finish_reason': 'tool_calls', 'logprobs': None}, id='run-f036d3de-3627-43ab-897a-dd6b973446b6-0', tool_calls=[{'name': 'tavily_search_results_json', 'args': {'query': 'San Francisco weather today'}, 'id': 'call_oX89qFMEULJYr76x73Hfpepc', 'type': 'tool_call'}], usage_metadata={'input_tokens': 151, 'output_tokens': 21, 'total_tokens': 172, 'input_token_details': {'audio': 0, 'cache_read': 0}, 'output_token_details': {'audio': 0, 'reasoning': 0}})]\n",
      "take_action called in thread: MainThread\n",
      "take_action called with tool_calls: [{'name': 'tavily_search_results_json', 'args': {'query': 'San Francisco weather today'}, 'id': 'call_oX89qFMEULJYr76x73Hfpepc', 'type': 'tool_call'}]\n",
      "Calling: {'name': 'tavily_search_results_json', 'args': {'query': 'San Francisco weather today'}, 'id': 'call_oX89qFMEULJYr76x73Hfpepc', 'type': 'tool_call'}\n",
      "action tavily_search_results_json, result: [{'url': 'https://www.weatherapi.com/', 'content': \"{'location': {'name': 'San Francisco', 'region': 'California', 'country': 'United States of America', 'lat': 37.775, 'lon': -122.4183, 'tz_id': 'America/Los_Angeles', 'localtime_epoch': 1731595497, 'localtime': '2024-11-14 06:44'}, 'current': {'last_updated_epoch': 1731594600, 'last_updated': '2024-11-14 06:30', 'temp_c': 11.7, 'temp_f': 53.1, 'is_day': 0, 'condition': {'text': 'Partly cloudy', 'icon': '//cdn.weatherapi.com/weather/64x64/night/116.png', 'code': 1003}, 'wind_mph': 2.2, 'wind_kph': 3.6, 'wind_degree': 194, 'wind_dir': 'SSW', 'pressure_mb': 1019.0, 'pressure_in': 30.09, 'precip_mm': 0.0, 'precip_in': 0.0, 'humidity': 96, 'cloud': 25, 'feelslike_c': 12.1, 'feelslike_f': 53.8, 'windchill_c': 12.0, 'windchill_f': 53.6, 'heatindex_c': 12.1, 'heatindex_f': 53.7, 'dewpoint_c': 11.7, 'dewpoint_f': 53.1, 'vis_km': 16.0, 'vis_miles': 9.0, 'uv': 0.0, 'gust_mph': 6.7, 'gust_kph': 10.8}}\"}, {'url': 'https://www.weathertab.com/en/c/e/11/united-states/california/san-francisco/', 'content': 'Avg High Temps 60 to 70 °F. Avg Low Temps 45 to 55 °F. Explore comprehensive November 2024 weather forecasts for San Francisco, including daily high and low temperatures, precipitation risks, and monthly temperature trends. Featuring detailed day-by-day forecasts, dynamic graphs of daily rain probabilities, and temperature trends to help you'}]\n",
      "Back to the model!\n",
      "[ToolMessage(content='[{\\'url\\': \\'https://www.weatherapi.com/\\', \\'content\\': \"{\\'location\\': {\\'name\\': \\'San Francisco\\', \\'region\\': \\'California\\', \\'country\\': \\'United States of America\\', \\'lat\\': 37.775, \\'lon\\': -122.4183, \\'tz_id\\': \\'America/Los_Angeles\\', \\'localtime_epoch\\': 1731595497, \\'localtime\\': \\'2024-11-14 06:44\\'}, \\'current\\': {\\'last_updated_epoch\\': 1731594600, \\'last_updated\\': \\'2024-11-14 06:30\\', \\'temp_c\\': 11.7, \\'temp_f\\': 53.1, \\'is_day\\': 0, \\'condition\\': {\\'text\\': \\'Partly cloudy\\', \\'icon\\': \\'//cdn.weatherapi.com/weather/64x64/night/116.png\\', \\'code\\': 1003}, \\'wind_mph\\': 2.2, \\'wind_kph\\': 3.6, \\'wind_degree\\': 194, \\'wind_dir\\': \\'SSW\\', \\'pressure_mb\\': 1019.0, \\'pressure_in\\': 30.09, \\'precip_mm\\': 0.0, \\'precip_in\\': 0.0, \\'humidity\\': 96, \\'cloud\\': 25, \\'feelslike_c\\': 12.1, \\'feelslike_f\\': 53.8, \\'windchill_c\\': 12.0, \\'windchill_f\\': 53.6, \\'heatindex_c\\': 12.1, \\'heatindex_f\\': 53.7, \\'dewpoint_c\\': 11.7, \\'dewpoint_f\\': 53.1, \\'vis_km\\': 16.0, \\'vis_miles\\': 9.0, \\'uv\\': 0.0, \\'gust_mph\\': 6.7, \\'gust_kph\\': 10.8}}\"}, {\\'url\\': \\'https://www.weathertab.com/en/c/e/11/united-states/california/san-francisco/\\', \\'content\\': \\'Avg High Temps 60 to 70 °F. Avg Low Temps 45 to 55 °F. Explore comprehensive November 2024 weather forecasts for San Francisco, including daily high and low temperatures, precipitation risks, and monthly temperature trends. Featuring detailed day-by-day forecasts, dynamic graphs of daily rain probabilities, and temperature trends to help you\\'}]', name='tavily_search_results_json', tool_call_id='call_oX89qFMEULJYr76x73Hfpepc')]\n",
      "[AIMessage(content='The current weather in San Francisco is partly cloudy with a temperature of 11.7°C (53.1°F). The wind is blowing from the south-southwest at 2.2 mph (3.6 kph). The humidity level is quite high at 96%, and there is no precipitation at the moment. The visibility is good at 16 kilometers (9 miles).', additional_kwargs={'refusal': None}, response_metadata={'token_usage': {'completion_tokens': 79, 'prompt_tokens': 694, 'total_tokens': 773, 'completion_tokens_details': {'accepted_prediction_tokens': 0, 'audio_tokens': 0, 'reasoning_tokens': 0, 'rejected_prediction_tokens': 0}, 'prompt_tokens_details': {'audio_tokens': 0, 'cached_tokens': 0}}, 'model_name': 'gpt-4o', 'system_fingerprint': 'fp_62f96df568', 'finish_reason': 'stop', 'logprobs': None}, id='run-ec9c91a0-9598-4ada-8dfe-8704ce472faa-0', usage_metadata={'input_tokens': 694, 'output_tokens': 79, 'total_tokens': 773, 'input_token_details': {'audio': 0, 'cache_read': 0}, 'output_token_details': {'audio': 0, 'reasoning': 0}})]\n"
     ]
    }
   ],
   "source": [
    "for event in abot.graph.stream({\"messages\": messages}, thread):\n",
    "    for v in event.values():\n",
    "        print(v['messages'])"
   ]
  },
  {
   "cell_type": "code",
   "execution_count": 11,
   "id": "c68e7c1a-ef77-43ff-bd80-706418b8e42f",
   "metadata": {},
   "outputs": [
    {
     "name": "stdout",
     "output_type": "stream",
     "text": [
      "[AIMessage(content='', additional_kwargs={'tool_calls': [{'id': 'call_Ln3pOy1OsLmmGNXVcm7fQh7N', 'function': {'arguments': '{\"query\":\"Los Angeles weather today\"}', 'name': 'tavily_search_results_json'}, 'type': 'function'}], 'refusal': None}, response_metadata={'token_usage': {'completion_tokens': 21, 'prompt_tokens': 787, 'total_tokens': 808, 'completion_tokens_details': {'accepted_prediction_tokens': 0, 'audio_tokens': 0, 'reasoning_tokens': 0, 'rejected_prediction_tokens': 0}, 'prompt_tokens_details': {'audio_tokens': 0, 'cached_tokens': 0}}, 'model_name': 'gpt-4o', 'system_fingerprint': 'fp_62f96df568', 'finish_reason': 'tool_calls', 'logprobs': None}, id='run-9e3a04ec-dcdd-4adb-8bbe-534c8cb0a856-0', tool_calls=[{'name': 'tavily_search_results_json', 'args': {'query': 'Los Angeles weather today'}, 'id': 'call_Ln3pOy1OsLmmGNXVcm7fQh7N', 'type': 'tool_call'}], usage_metadata={'input_tokens': 787, 'output_tokens': 21, 'total_tokens': 808, 'input_token_details': {'audio': 0, 'cache_read': 0}, 'output_token_details': {'audio': 0, 'reasoning': 0}})]\n",
      "take_action called in thread: MainThread\n",
      "take_action called with tool_calls: [{'name': 'tavily_search_results_json', 'args': {'query': 'Los Angeles weather today'}, 'id': 'call_Ln3pOy1OsLmmGNXVcm7fQh7N', 'type': 'tool_call'}]\n",
      "Calling: {'name': 'tavily_search_results_json', 'args': {'query': 'Los Angeles weather today'}, 'id': 'call_Ln3pOy1OsLmmGNXVcm7fQh7N', 'type': 'tool_call'}\n",
      "action tavily_search_results_json, result: [{'url': 'https://www.weatherapi.com/', 'content': \"{'location': {'name': 'Los Angeles', 'region': 'California', 'country': 'United States of America', 'lat': 34.0522, 'lon': -118.2428, 'tz_id': 'America/Los_Angeles', 'localtime_epoch': 1731595532, 'localtime': '2024-11-14 06:45'}, 'current': {'last_updated_epoch': 1731595500, 'last_updated': '2024-11-14 06:45', 'temp_c': 12.2, 'temp_f': 54.0, 'is_day': 1, 'condition': {'text': 'Partly cloudy', 'icon': '//cdn.weatherapi.com/weather/64x64/day/116.png', 'code': 1003}, 'wind_mph': 2.2, 'wind_kph': 3.6, 'wind_degree': 84, 'wind_dir': 'E', 'pressure_mb': 1015.0, 'pressure_in': 29.98, 'precip_mm': 0.0, 'precip_in': 0.0, 'humidity': 47, 'cloud': 25, 'feelslike_c': 12.7, 'feelslike_f': 54.8, 'windchill_c': 15.2, 'windchill_f': 59.3, 'heatindex_c': 14.6, 'heatindex_f': 58.2, 'dewpoint_c': -2.0, 'dewpoint_f': 28.3, 'vis_km': 16.0, 'vis_miles': 9.0, 'uv': 0.0, 'gust_mph': 3.6, 'gust_kph': 5.8}}\"}, {'url': 'https://www.weathertab.com/en/long-range-weather/e/11/14/united-states/california/los-angeles/', 'content': \"Los Angeles, CA Weather Forecast for November 14, 2024 Los Angeles Weather Forecast for November 14, 2024 Precipitation Forecast: Low RiskPlan your weather sensitive activities on these days for the least risk of rain or snow. The forecasts won't be perfect, but you will enjoy very favorable odds over the long term.26%Forecast risk of rain/snow.Forecast Details:Low risk of rain/snow.26% Forecast risk of rain/snow.30% of days in the period have higher riskNo buffer from the closest risky periodTemperature Forecast: Warmer Than NormalHigh Temperature Forecast 70 to 80 °FLow Temperature Forecast 44 to 54 °FHigh Temperature Forecast 20 to 26 °CLow Temperature Forecast 6 to 12 °C(adsbygoogle = window.adsbygoogle || []).push({});Sun Times:Dawn 5:57 AMSunrise 6:24 AMSolar Noon 11:37 AMSunset 4:49 PMDusk 5:15 PMMoon Times:Moonset 5:00 AMMoonrise 3:54 PMMoon Phase:Moon: 96%Waxing Gibbous\"}]\n",
      "Back to the model!\n",
      "[ToolMessage(content='[{\\'url\\': \\'https://www.weatherapi.com/\\', \\'content\\': \"{\\'location\\': {\\'name\\': \\'Los Angeles\\', \\'region\\': \\'California\\', \\'country\\': \\'United States of America\\', \\'lat\\': 34.0522, \\'lon\\': -118.2428, \\'tz_id\\': \\'America/Los_Angeles\\', \\'localtime_epoch\\': 1731595532, \\'localtime\\': \\'2024-11-14 06:45\\'}, \\'current\\': {\\'last_updated_epoch\\': 1731595500, \\'last_updated\\': \\'2024-11-14 06:45\\', \\'temp_c\\': 12.2, \\'temp_f\\': 54.0, \\'is_day\\': 1, \\'condition\\': {\\'text\\': \\'Partly cloudy\\', \\'icon\\': \\'//cdn.weatherapi.com/weather/64x64/day/116.png\\', \\'code\\': 1003}, \\'wind_mph\\': 2.2, \\'wind_kph\\': 3.6, \\'wind_degree\\': 84, \\'wind_dir\\': \\'E\\', \\'pressure_mb\\': 1015.0, \\'pressure_in\\': 29.98, \\'precip_mm\\': 0.0, \\'precip_in\\': 0.0, \\'humidity\\': 47, \\'cloud\\': 25, \\'feelslike_c\\': 12.7, \\'feelslike_f\\': 54.8, \\'windchill_c\\': 15.2, \\'windchill_f\\': 59.3, \\'heatindex_c\\': 14.6, \\'heatindex_f\\': 58.2, \\'dewpoint_c\\': -2.0, \\'dewpoint_f\\': 28.3, \\'vis_km\\': 16.0, \\'vis_miles\\': 9.0, \\'uv\\': 0.0, \\'gust_mph\\': 3.6, \\'gust_kph\\': 5.8}}\"}, {\\'url\\': \\'https://www.weathertab.com/en/long-range-weather/e/11/14/united-states/california/los-angeles/\\', \\'content\\': \"Los Angeles, CA Weather Forecast for November 14, 2024 Los Angeles Weather Forecast for November 14, 2024 Precipitation Forecast: Low RiskPlan your weather sensitive activities on these days for the least risk of rain or snow. The forecasts won\\'t be perfect, but you will enjoy very favorable odds over the long term.26%Forecast risk of rain/snow.Forecast Details:Low risk of rain/snow.26% Forecast risk of rain/snow.30% of days in the period have higher riskNo buffer from the closest risky periodTemperature Forecast: Warmer Than NormalHigh Temperature Forecast 70 to 80 °FLow Temperature Forecast 44 to 54 °FHigh Temperature Forecast 20 to 26 °CLow Temperature Forecast 6 to 12 °C(adsbygoogle = window.adsbygoogle || []).push({});Sun Times:Dawn 5:57 AMSunrise 6:24 AMSolar Noon 11:37 AMSunset 4:49 PMDusk 5:15 PMMoon Times:Moonset 5:00 AMMoonrise 3:54 PMMoon Phase:Moon: 96%Waxing Gibbous\"}]', name='tavily_search_results_json', tool_call_id='call_Ln3pOy1OsLmmGNXVcm7fQh7N')]\n",
      "[AIMessage(content='The current weather in Los Angeles is partly cloudy with a temperature of 12.2°C (54.0°F). The wind is coming from the east at 2.2 mph (3.6 kph). The humidity is at 47%, and there is no precipitation at the moment. Visibility is good at 16 kilometers (9 miles).', additional_kwargs={'refusal': None}, response_metadata={'token_usage': {'completion_tokens': 72, 'prompt_tokens': 1505, 'total_tokens': 1577, 'completion_tokens_details': {'accepted_prediction_tokens': 0, 'audio_tokens': 0, 'reasoning_tokens': 0, 'rejected_prediction_tokens': 0}, 'prompt_tokens_details': {'audio_tokens': 0, 'cached_tokens': 0}}, 'model_name': 'gpt-4o', 'system_fingerprint': 'fp_62f96df568', 'finish_reason': 'stop', 'logprobs': None}, id='run-59f7e448-63b0-4389-a47c-4b96e513538f-0', usage_metadata={'input_tokens': 1505, 'output_tokens': 72, 'total_tokens': 1577, 'input_token_details': {'audio': 0, 'cache_read': 0}, 'output_token_details': {'audio': 0, 'reasoning': 0}})]\n"
     ]
    }
   ],
   "source": [
    "messages=[HumanMessage(content=\"What is the weather in la?\")]\n",
    "thread={\"configurable\":{\"thread_id\":\"1\"}}\n",
    "for event in abot.graph.stream({\"messages\": messages}, thread):\n",
    "    for v in event.values():\n",
    "        print(v['messages'])"
   ]
  },
  {
   "cell_type": "code",
   "execution_count": 12,
   "id": "72383e13-6e16-49a7-b7b0-765403265e84",
   "metadata": {},
   "outputs": [
    {
     "name": "stdout",
     "output_type": "stream",
     "text": [
      "{'messages': [AIMessage(content='Currently, Los Angeles is slightly warmer than San Francisco. Los Angeles has a temperature of 12.2°C (54.0°F), while San Francisco has a temperature of 11.7°C (53.1°F).', additional_kwargs={'refusal': None}, response_metadata={'token_usage': {'completion_tokens': 47, 'prompt_tokens': 1588, 'total_tokens': 1635, 'completion_tokens_details': {'accepted_prediction_tokens': 0, 'audio_tokens': 0, 'reasoning_tokens': 0, 'rejected_prediction_tokens': 0}, 'prompt_tokens_details': {'audio_tokens': 0, 'cached_tokens': 1408}}, 'model_name': 'gpt-4o', 'system_fingerprint': 'fp_62f96df568', 'finish_reason': 'stop', 'logprobs': None}, id='run-daab5be2-480c-40c6-b36d-0330255230c7-0', usage_metadata={'input_tokens': 1588, 'output_tokens': 47, 'total_tokens': 1635, 'input_token_details': {'audio': 0, 'cache_read': 1408}, 'output_token_details': {'audio': 0, 'reasoning': 0}})]}\n"
     ]
    }
   ],
   "source": [
    "messages=[HumanMessage(content=\"Which one is warmer\")]\n",
    "thread={\"configurable\":{\"thread_id\":\"1\"}}\n",
    "for event in abot.graph.stream({\"messages\": messages}, thread):\n",
    "    for v in event.values():\n",
    "        print(v)"
   ]
  },
  {
   "cell_type": "code",
   "execution_count": 13,
   "id": "6070ee0b-f48c-4bc6-948a-71d8753ea24b",
   "metadata": {},
   "outputs": [
    {
     "name": "stdout",
     "output_type": "stream",
     "text": [
      "{'messages': [AIMessage(content='Could you please specify the locations or items you are comparing to determine which one is warmer?', additional_kwargs={'refusal': None}, response_metadata={'token_usage': {'completion_tokens': 19, 'prompt_tokens': 148, 'total_tokens': 167, 'completion_tokens_details': {'accepted_prediction_tokens': 0, 'audio_tokens': 0, 'reasoning_tokens': 0, 'rejected_prediction_tokens': 0}, 'prompt_tokens_details': {'audio_tokens': 0, 'cached_tokens': 0}}, 'model_name': 'gpt-4o', 'system_fingerprint': 'fp_62f96df568', 'finish_reason': 'stop', 'logprobs': None}, id='run-d75a63a5-6041-472a-8e54-edd98df89d54-0', usage_metadata={'input_tokens': 148, 'output_tokens': 19, 'total_tokens': 167, 'input_token_details': {'audio': 0, 'cache_read': 0}, 'output_token_details': {'audio': 0, 'reasoning': 0}})]}\n"
     ]
    }
   ],
   "source": [
    "messages=[HumanMessage(content=\"Which one is warmer\")]\n",
    "thread={\"configurable\":{\"thread_id\":\"2\"}}\n",
    "for event in abot.graph.stream({\"messages\": messages}, thread):\n",
    "    for v in event.values():\n",
    "        print(v)"
   ]
  },
  {
   "cell_type": "code",
   "execution_count": 65,
   "id": "bc2b91ca-bf01-4960-ae03-1c4d5987bc40",
   "metadata": {},
   "outputs": [],
   "source": [
    "from langgraph.checkpoint.sqlite.aio import AsyncSqliteSaver\n",
    "\n",
    "# 使用适合 SQLite 的内存数据库连接字符串\n",
    "memory=AsyncSqliteSaver.from_conn_string(':memory:')\n",
    "abot = Agent(model, [tool], system=prompt, checkpointer=memory)\n"
   ]
  },
  {
   "cell_type": "code",
   "execution_count": 67,
   "id": "57eb4b3c-e242-4a2b-ad82-8e32de35988b",
   "metadata": {},
   "outputs": [
    {
     "ename": "AttributeError",
     "evalue": "'_AsyncGeneratorContextManager' object has no attribute 'get_next_version'",
     "output_type": "error",
     "traceback": [
      "\u001b[0;31m---------------------------------------------------------------------------\u001b[0m",
      "\u001b[0;31mAttributeError\u001b[0m                            Traceback (most recent call last)",
      "Cell \u001b[0;32mIn[67], line 3\u001b[0m\n\u001b[1;32m      1\u001b[0m messages \u001b[38;5;241m=\u001b[39m [HumanMessage(content\u001b[38;5;241m=\u001b[39m\u001b[38;5;124m\"\u001b[39m\u001b[38;5;124mWhat is the weather in SF?\u001b[39m\u001b[38;5;124m\"\u001b[39m)]\n\u001b[1;32m      2\u001b[0m thread \u001b[38;5;241m=\u001b[39m {\u001b[38;5;124m\"\u001b[39m\u001b[38;5;124mconfigurable\u001b[39m\u001b[38;5;124m\"\u001b[39m: {\u001b[38;5;124m\"\u001b[39m\u001b[38;5;124mthread_id\u001b[39m\u001b[38;5;124m\"\u001b[39m: \u001b[38;5;124m\"\u001b[39m\u001b[38;5;124m4\u001b[39m\u001b[38;5;124m\"\u001b[39m}}\n\u001b[0;32m----> 3\u001b[0m \u001b[38;5;28;01masync\u001b[39;00m \u001b[38;5;28;01mfor\u001b[39;00m event \u001b[38;5;129;01min\u001b[39;00m abot\u001b[38;5;241m.\u001b[39mgraph\u001b[38;5;241m.\u001b[39mastream_events({\u001b[38;5;124m\"\u001b[39m\u001b[38;5;124mmessages\u001b[39m\u001b[38;5;124m\"\u001b[39m: messages}, thread, version\u001b[38;5;241m=\u001b[39m\u001b[38;5;124m\"\u001b[39m\u001b[38;5;124mv1\u001b[39m\u001b[38;5;124m\"\u001b[39m):\n\u001b[1;32m      4\u001b[0m     kind \u001b[38;5;241m=\u001b[39m event[\u001b[38;5;124m\"\u001b[39m\u001b[38;5;124mevent\u001b[39m\u001b[38;5;124m\"\u001b[39m]\n\u001b[1;32m      5\u001b[0m     \u001b[38;5;28;01mif\u001b[39;00m kind \u001b[38;5;241m==\u001b[39m \u001b[38;5;124m\"\u001b[39m\u001b[38;5;124mon_chat_model_stream\u001b[39m\u001b[38;5;124m\"\u001b[39m:\n",
      "File \u001b[0;32m/Applications/anaconda/anaconda3/lib/python3.12/site-packages/langchain_core/runnables/base.py:1388\u001b[0m, in \u001b[0;36mRunnable.astream_events\u001b[0;34m(self, input, config, version, include_names, include_types, include_tags, exclude_names, exclude_types, exclude_tags, **kwargs)\u001b[0m\n\u001b[1;32m   1385\u001b[0m     \u001b[38;5;28;01mraise\u001b[39;00m \u001b[38;5;167;01mNotImplementedError\u001b[39;00m(msg)\n\u001b[1;32m   1387\u001b[0m \u001b[38;5;28;01masync\u001b[39;00m \u001b[38;5;28;01mwith\u001b[39;00m aclosing(event_stream):\n\u001b[0;32m-> 1388\u001b[0m     \u001b[38;5;28;01masync\u001b[39;00m \u001b[38;5;28;01mfor\u001b[39;00m event \u001b[38;5;129;01min\u001b[39;00m event_stream:\n\u001b[1;32m   1389\u001b[0m         \u001b[38;5;28;01myield\u001b[39;00m event\n",
      "File \u001b[0;32m/Applications/anaconda/anaconda3/lib/python3.12/site-packages/langchain_core/tracers/event_stream.py:781\u001b[0m, in \u001b[0;36m_astream_events_implementation_v1\u001b[0;34m(runnable, input, config, include_names, include_types, include_tags, exclude_names, exclude_types, exclude_tags, **kwargs)\u001b[0m\n\u001b[1;32m    777\u001b[0m root_name \u001b[38;5;241m=\u001b[39m config\u001b[38;5;241m.\u001b[39mget(\u001b[38;5;124m\"\u001b[39m\u001b[38;5;124mrun_name\u001b[39m\u001b[38;5;124m\"\u001b[39m, runnable\u001b[38;5;241m.\u001b[39mget_name())\n\u001b[1;32m    779\u001b[0m \u001b[38;5;66;03m# Ignoring mypy complaint about too many different union combinations\u001b[39;00m\n\u001b[1;32m    780\u001b[0m \u001b[38;5;66;03m# This arises because many of the argument types are unions\u001b[39;00m\n\u001b[0;32m--> 781\u001b[0m \u001b[38;5;28;01masync\u001b[39;00m \u001b[38;5;28;01mfor\u001b[39;00m log \u001b[38;5;129;01min\u001b[39;00m _astream_log_implementation(  \u001b[38;5;66;03m# type: ignore[misc]\u001b[39;00m\n\u001b[1;32m    782\u001b[0m     runnable,\n\u001b[1;32m    783\u001b[0m     \u001b[38;5;28minput\u001b[39m,\n\u001b[1;32m    784\u001b[0m     config\u001b[38;5;241m=\u001b[39mconfig,\n\u001b[1;32m    785\u001b[0m     stream\u001b[38;5;241m=\u001b[39mstream,\n\u001b[1;32m    786\u001b[0m     diff\u001b[38;5;241m=\u001b[39m\u001b[38;5;28;01mTrue\u001b[39;00m,\n\u001b[1;32m    787\u001b[0m     with_streamed_output_list\u001b[38;5;241m=\u001b[39m\u001b[38;5;28;01mTrue\u001b[39;00m,\n\u001b[1;32m    788\u001b[0m     \u001b[38;5;241m*\u001b[39m\u001b[38;5;241m*\u001b[39mkwargs,\n\u001b[1;32m    789\u001b[0m ):\n\u001b[1;32m    790\u001b[0m     run_log \u001b[38;5;241m=\u001b[39m run_log \u001b[38;5;241m+\u001b[39m log\n\u001b[1;32m    792\u001b[0m     \u001b[38;5;28;01mif\u001b[39;00m \u001b[38;5;129;01mnot\u001b[39;00m encountered_start_event:\n\u001b[1;32m    793\u001b[0m         \u001b[38;5;66;03m# Yield the start event for the root runnable.\u001b[39;00m\n",
      "File \u001b[0;32m/Applications/anaconda/anaconda3/lib/python3.12/site-packages/langchain_core/tracers/log_stream.py:675\u001b[0m, in \u001b[0;36m_astream_log_implementation\u001b[0;34m(runnable, input, config, stream, diff, with_streamed_output_list, **kwargs)\u001b[0m\n\u001b[1;32m    672\u001b[0m \u001b[38;5;28;01mfinally\u001b[39;00m:\n\u001b[1;32m    673\u001b[0m     \u001b[38;5;66;03m# Wait for the runnable to finish, if not cancelled (eg. by break)\u001b[39;00m\n\u001b[1;32m    674\u001b[0m     \u001b[38;5;28;01mwith\u001b[39;00m contextlib\u001b[38;5;241m.\u001b[39msuppress(asyncio\u001b[38;5;241m.\u001b[39mCancelledError):\n\u001b[0;32m--> 675\u001b[0m         \u001b[38;5;28;01mawait\u001b[39;00m task\n",
      "File \u001b[0;32m/Applications/anaconda/anaconda3/lib/python3.12/site-packages/langchain_core/tracers/log_stream.py:629\u001b[0m, in \u001b[0;36m_astream_log_implementation.<locals>.consume_astream\u001b[0;34m()\u001b[0m\n\u001b[1;32m    626\u001b[0m prev_final_output: Optional[Output] \u001b[38;5;241m=\u001b[39m \u001b[38;5;28;01mNone\u001b[39;00m\n\u001b[1;32m    627\u001b[0m final_output: Optional[Output] \u001b[38;5;241m=\u001b[39m \u001b[38;5;28;01mNone\u001b[39;00m\n\u001b[0;32m--> 629\u001b[0m \u001b[38;5;28;01masync\u001b[39;00m \u001b[38;5;28;01mfor\u001b[39;00m chunk \u001b[38;5;129;01min\u001b[39;00m runnable\u001b[38;5;241m.\u001b[39mastream(\u001b[38;5;28minput\u001b[39m, config, \u001b[38;5;241m*\u001b[39m\u001b[38;5;241m*\u001b[39mkwargs):\n\u001b[1;32m    630\u001b[0m     prev_final_output \u001b[38;5;241m=\u001b[39m final_output\n\u001b[1;32m    631\u001b[0m     \u001b[38;5;28;01mif\u001b[39;00m final_output \u001b[38;5;129;01mis\u001b[39;00m \u001b[38;5;28;01mNone\u001b[39;00m:\n",
      "File \u001b[0;32m/Applications/anaconda/anaconda3/lib/python3.12/site-packages/langgraph/pregel/__init__.py:1743\u001b[0m, in \u001b[0;36mPregel.astream\u001b[0;34m(self, input, config, stream_mode, output_keys, interrupt_before, interrupt_after, debug, subgraphs)\u001b[0m\n\u001b[1;32m   1739\u001b[0m \u001b[38;5;28;01mif\u001b[39;00m \u001b[38;5;124m\"\u001b[39m\u001b[38;5;124mcustom\u001b[39m\u001b[38;5;124m\"\u001b[39m \u001b[38;5;129;01min\u001b[39;00m stream_modes:\n\u001b[1;32m   1740\u001b[0m     config[CONF][CONFIG_KEY_STREAM_WRITER] \u001b[38;5;241m=\u001b[39m \u001b[38;5;28;01mlambda\u001b[39;00m c: stream\u001b[38;5;241m.\u001b[39mput_nowait(\n\u001b[1;32m   1741\u001b[0m         ((), \u001b[38;5;124m\"\u001b[39m\u001b[38;5;124mcustom\u001b[39m\u001b[38;5;124m\"\u001b[39m, c)\n\u001b[1;32m   1742\u001b[0m     )\n\u001b[0;32m-> 1743\u001b[0m \u001b[38;5;28;01masync\u001b[39;00m \u001b[38;5;28;01mwith\u001b[39;00m \u001b[43mAsyncPregelLoop\u001b[49m\u001b[43m(\u001b[49m\n\u001b[1;32m   1744\u001b[0m \u001b[43m    \u001b[49m\u001b[38;5;28;43minput\u001b[39;49m\u001b[43m,\u001b[49m\n\u001b[1;32m   1745\u001b[0m \u001b[43m    \u001b[49m\u001b[43mstream\u001b[49m\u001b[38;5;241;43m=\u001b[39;49m\u001b[43mStreamProtocol\u001b[49m\u001b[43m(\u001b[49m\u001b[43mstream\u001b[49m\u001b[38;5;241;43m.\u001b[39;49m\u001b[43mput_nowait\u001b[49m\u001b[43m,\u001b[49m\u001b[43m \u001b[49m\u001b[43mstream_modes\u001b[49m\u001b[43m)\u001b[49m\u001b[43m,\u001b[49m\n\u001b[1;32m   1746\u001b[0m \u001b[43m    \u001b[49m\u001b[43mconfig\u001b[49m\u001b[38;5;241;43m=\u001b[39;49m\u001b[43mconfig\u001b[49m\u001b[43m,\u001b[49m\n\u001b[1;32m   1747\u001b[0m \u001b[43m    \u001b[49m\u001b[43mstore\u001b[49m\u001b[38;5;241;43m=\u001b[39;49m\u001b[43mstore\u001b[49m\u001b[43m,\u001b[49m\n\u001b[1;32m   1748\u001b[0m \u001b[43m    \u001b[49m\u001b[43mcheckpointer\u001b[49m\u001b[38;5;241;43m=\u001b[39;49m\u001b[43mcheckpointer\u001b[49m\u001b[43m,\u001b[49m\n\u001b[1;32m   1749\u001b[0m \u001b[43m    \u001b[49m\u001b[43mnodes\u001b[49m\u001b[38;5;241;43m=\u001b[39;49m\u001b[38;5;28;43mself\u001b[39;49m\u001b[38;5;241;43m.\u001b[39;49m\u001b[43mnodes\u001b[49m\u001b[43m,\u001b[49m\n\u001b[1;32m   1750\u001b[0m \u001b[43m    \u001b[49m\u001b[43mspecs\u001b[49m\u001b[38;5;241;43m=\u001b[39;49m\u001b[38;5;28;43mself\u001b[39;49m\u001b[38;5;241;43m.\u001b[39;49m\u001b[43mchannels\u001b[49m\u001b[43m,\u001b[49m\n\u001b[1;32m   1751\u001b[0m \u001b[43m    \u001b[49m\u001b[43moutput_keys\u001b[49m\u001b[38;5;241;43m=\u001b[39;49m\u001b[43moutput_keys\u001b[49m\u001b[43m,\u001b[49m\n\u001b[1;32m   1752\u001b[0m \u001b[43m    \u001b[49m\u001b[43mstream_keys\u001b[49m\u001b[38;5;241;43m=\u001b[39;49m\u001b[38;5;28;43mself\u001b[39;49m\u001b[38;5;241;43m.\u001b[39;49m\u001b[43mstream_channels_asis\u001b[49m\u001b[43m,\u001b[49m\n\u001b[1;32m   1753\u001b[0m \u001b[43m    \u001b[49m\u001b[43minterrupt_before\u001b[49m\u001b[38;5;241;43m=\u001b[39;49m\u001b[43minterrupt_before_\u001b[49m\u001b[43m,\u001b[49m\n\u001b[1;32m   1754\u001b[0m \u001b[43m    \u001b[49m\u001b[43minterrupt_after\u001b[49m\u001b[38;5;241;43m=\u001b[39;49m\u001b[43minterrupt_after_\u001b[49m\u001b[43m,\u001b[49m\n\u001b[1;32m   1755\u001b[0m \u001b[43m    \u001b[49m\u001b[43mmanager\u001b[49m\u001b[38;5;241;43m=\u001b[39;49m\u001b[43mrun_manager\u001b[49m\u001b[43m,\u001b[49m\n\u001b[1;32m   1756\u001b[0m \u001b[43m\u001b[49m\u001b[43m)\u001b[49m \u001b[38;5;28;01mas\u001b[39;00m loop:\n\u001b[1;32m   1757\u001b[0m     \u001b[38;5;66;03m# create runner\u001b[39;00m\n\u001b[1;32m   1758\u001b[0m     runner \u001b[38;5;241m=\u001b[39m PregelRunner(\n\u001b[1;32m   1759\u001b[0m         submit\u001b[38;5;241m=\u001b[39mloop\u001b[38;5;241m.\u001b[39msubmit,\n\u001b[1;32m   1760\u001b[0m         put_writes\u001b[38;5;241m=\u001b[39mloop\u001b[38;5;241m.\u001b[39mput_writes,\n\u001b[0;32m   (...)\u001b[0m\n\u001b[1;32m   1763\u001b[0m         node_finished\u001b[38;5;241m=\u001b[39mconfig[CONF]\u001b[38;5;241m.\u001b[39mget(CONFIG_KEY_NODE_FINISHED),\n\u001b[1;32m   1764\u001b[0m     )\n\u001b[1;32m   1765\u001b[0m     \u001b[38;5;66;03m# enable subgraph streaming\u001b[39;00m\n",
      "File \u001b[0;32m/Applications/anaconda/anaconda3/lib/python3.12/site-packages/langgraph/pregel/loop.py:914\u001b[0m, in \u001b[0;36mAsyncPregelLoop.__init__\u001b[0;34m(self, input, stream, config, store, checkpointer, nodes, specs, interrupt_after, interrupt_before, manager, output_keys, stream_keys, check_subgraphs, debug)\u001b[0m\n\u001b[1;32m    912\u001b[0m \u001b[38;5;28mself\u001b[39m\u001b[38;5;241m.\u001b[39mstack \u001b[38;5;241m=\u001b[39m AsyncExitStack()\n\u001b[1;32m    913\u001b[0m \u001b[38;5;28;01mif\u001b[39;00m checkpointer:\n\u001b[0;32m--> 914\u001b[0m     \u001b[38;5;28mself\u001b[39m\u001b[38;5;241m.\u001b[39mcheckpointer_get_next_version \u001b[38;5;241m=\u001b[39m \u001b[43mcheckpointer\u001b[49m\u001b[38;5;241;43m.\u001b[39;49m\u001b[43mget_next_version\u001b[49m\n\u001b[1;32m    915\u001b[0m     \u001b[38;5;28mself\u001b[39m\u001b[38;5;241m.\u001b[39mcheckpointer_put_writes \u001b[38;5;241m=\u001b[39m checkpointer\u001b[38;5;241m.\u001b[39maput_writes\n\u001b[1;32m    916\u001b[0m \u001b[38;5;28;01melse\u001b[39;00m:\n",
      "\u001b[0;31mAttributeError\u001b[0m: '_AsyncGeneratorContextManager' object has no attribute 'get_next_version'"
     ]
    }
   ],
   "source": [
    "messages = [HumanMessage(content=\"What is the weather in SF?\")]\n",
    "thread = {\"configurable\": {\"thread_id\": \"4\"}}\n",
    "async for event in abot.graph.astream_events({\"messages\": messages}, thread, version=\"v1\"):\n",
    "    kind = event[\"event\"]\n",
    "    if kind == \"on_chat_model_stream\":\n",
    "        content = event[\"data\"][\"chunk\"].content\n",
    "        if content:\n",
    "            # Empty content in the context of OpenAI means\n",
    "            # that the model is asking for a tool to be invoked.\n",
    "            # So we only print non-empty content\n",
    "            print(content, end=\"|\")"
   ]
  },
  {
   "cell_type": "code",
   "execution_count": null,
   "id": "a2ec972c-75e3-41ae-ab50-e4e9d05ee425",
   "metadata": {},
   "outputs": [],
   "source": []
  },
  {
   "cell_type": "code",
   "execution_count": null,
   "id": "5c20c3dd-ab90-417a-9d96-2a25f1810f02",
   "metadata": {},
   "outputs": [],
   "source": []
  },
  {
   "cell_type": "code",
   "execution_count": null,
   "id": "3b63b8af-e996-48b9-aaca-6a067a3569f1",
   "metadata": {},
   "outputs": [],
   "source": []
  }
 ],
 "metadata": {
  "kernelspec": {
   "display_name": "Python 3 (ipykernel)",
   "language": "python",
   "name": "python3"
  },
  "language_info": {
   "codemirror_mode": {
    "name": "ipython",
    "version": 3
   },
   "file_extension": ".py",
   "mimetype": "text/x-python",
   "name": "python",
   "nbconvert_exporter": "python",
   "pygments_lexer": "ipython3",
   "version": "3.12.3"
  }
 },
 "nbformat": 4,
 "nbformat_minor": 5
}
