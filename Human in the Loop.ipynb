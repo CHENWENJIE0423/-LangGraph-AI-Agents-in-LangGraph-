{
 "cells": [
  {
   "cell_type": "code",
   "execution_count": 2,
   "id": "627af152-3a34-4e87-a7ac-8dafd21d1974",
   "metadata": {},
   "outputs": [],
   "source": [
    "from langgraph.graph import StateGraph, END\n",
    "from typing import TypedDict, Annotated\n",
    "import operator\n",
    "from langchain_core.messages import AnyMessage, SystemMessage, HumanMessage, ToolMessage\n",
    "from langchain_openai import ChatOpenAI\n",
    "from langchain_community.tools.tavily_search import TavilySearchResults\n",
    "from langgraph.checkpoint.sqlite import SqliteSaver\n",
    "\n",
    "memory = SqliteSaver.from_conn_string(\":memory:\")"
   ]
  },
  {
   "cell_type": "code",
   "execution_count": 4,
   "id": "fd0ae7f7-990d-4541-872f-04a7b2d390fc",
   "metadata": {},
   "outputs": [],
   "source": [
    "from uuid import uuid4\n",
    "from langchain_core.messages import AnyMessage, SystemMessage, HumanMessage, AIMessage\n",
    "\n",
    "\"\"\"\n",
    "In previous examples we've annotated the `messages` state key\n",
    "with the default `operator.add` or `+` reducer, which always\n",
    "appends new messages to the end of the existing messages array.\n",
    "\n",
    "Now, to support replacing existing messages, we annotate the\n",
    "`messages` key with a customer reducer function, which replaces\n",
    "messages with the same `id`, and appends them otherwise.\n",
    "\"\"\"\n",
    "def reduce_messages(left: list[AnyMessage], right: list[AnyMessage]) -> list[AnyMessage]:\n",
    "    # assign ids to messages that don't have them\n",
    "    for message in right:\n",
    "        if not message.id:\n",
    "            message.id = str(uuid4())\n",
    "    # merge the new messages with the existing messages\n",
    "    merged = left.copy()\n",
    "    for message in right:\n",
    "        for i, existing in enumerate(merged):\n",
    "            # replace any existing messages with the same id\n",
    "            if existing.id == message.id:\n",
    "                merged[i] = message\n",
    "                break\n",
    "        else:\n",
    "            # append any new messages to the end\n",
    "            merged.append(message)\n",
    "    return merged\n",
    "\n",
    "class AgentState(TypedDict):\n",
    "    messages: Annotated[list[AnyMessage], reduce_messages]"
   ]
  },
  {
   "cell_type": "code",
   "execution_count": 6,
   "id": "74fcf0ee-9bfe-45a4-8c67-cf6f26883eb0",
   "metadata": {},
   "outputs": [],
   "source": [
    "tool = TavilySearchResults(max_results=2)"
   ]
  },
  {
   "cell_type": "code",
   "execution_count": 8,
   "id": "42c33d37-48b5-43d5-a8f5-91791e7f59ac",
   "metadata": {},
   "outputs": [],
   "source": [
    "class Agent:\n",
    "    def __init__(self, model, tools, system=\"\", checkpointer=None):\n",
    "        self.system = system\n",
    "        graph = StateGraph(AgentState)\n",
    "        graph.add_node(\"llm\", self.call_openai)\n",
    "        graph.add_node(\"action\", self.take_action)\n",
    "        graph.add_conditional_edges(\"llm\", self.exists_action, {True: \"action\", False: END})\n",
    "        graph.add_edge(\"action\", \"llm\")\n",
    "        graph.set_entry_point(\"llm\")\n",
    "        self.graph = graph.compile(\n",
    "            checkpointer=checkpointer,\n",
    "            interrupt_before=[\"action\"]\n",
    "        )\n",
    "        self.tools = {t.name: t for t in tools}\n",
    "        self.model = model.bind_tools(tools)\n",
    "\n",
    "    def call_openai(self, state: AgentState):\n",
    "        messages = state['messages']\n",
    "        if self.system:\n",
    "            messages = [SystemMessage(content=self.system)] + messages\n",
    "        message = self.model.invoke(messages)\n",
    "        return {'messages': [message]}\n",
    "\n",
    "    def exists_action(self, state: AgentState):\n",
    "        print(state)\n",
    "        result = state['messages'][-1]\n",
    "        return len(result.tool_calls) > 0\n",
    "\n",
    "    def take_action(self, state: AgentState):\n",
    "        tool_calls = state['messages'][-1].tool_calls\n",
    "        results = []\n",
    "        for t in tool_calls:\n",
    "            print(f\"Calling: {t}\")\n",
    "            result = self.tools[t['name']].invoke(t['args'])\n",
    "            results.append(ToolMessage(tool_call_id=t['id'], name=t['name'], content=str(result)))\n",
    "        print(\"Back to the model!\")\n",
    "        return {'messages': results}"
   ]
  },
  {
   "cell_type": "code",
   "execution_count": 18,
   "id": "b7994625-e636-41b1-8cf0-0f97f468428e",
   "metadata": {},
   "outputs": [],
   "source": [
    "prompt = \"\"\"You are a smart research assistant. Use the search engine to look up information. \\\n",
    "You are allowed to make multiple calls (either together or in sequence). \\\n",
    "Only look up information when you are sure of what you want. \\\n",
    "If you need to look up some information before asking a follow up question, you are allowed to do that!\n",
    "\"\"\"\n",
    "# model = ChatOpenAI(model=\"gpt-3.5-turbo\")\n",
    "model = ChatOpenAI(base_url= \"https://api.zhizengzeng.com/v1/\",\n",
    "                api_key= \"sk-zk282c91e7660ee3aefc73a38060adc99596725965513925\",\n",
    "                  model=\"gpt-4o\")\n",
    "\n",
    "from langgraph.checkpoint.memory import MemorySaver\n",
    "memory = MemorySaver()\n",
    "\n",
    "# 假设 `Agent` 的初始化不依赖于异步数据库\n",
    "abot = Agent(model, [tool], system=prompt, checkpointer=memory)"
   ]
  },
  {
   "cell_type": "code",
   "execution_count": 20,
   "id": "e03f3540-fa61-46d0-8825-eeb8f44d424c",
   "metadata": {},
   "outputs": [
    {
     "name": "stdout",
     "output_type": "stream",
     "text": [
      "{'messages': [HumanMessage(content='Whats the weather in SF?', additional_kwargs={}, response_metadata={}, id='77fa2d90-adf1-4828-96b9-bf3f3b6c1fbd'), AIMessage(content='', additional_kwargs={'tool_calls': [{'id': 'call_qE1R86l29HQWcXzcx6vZ82qR', 'function': {'arguments': '{\"query\":\"current weather in San Francisco\"}', 'name': 'tavily_search_results_json'}, 'type': 'function'}], 'refusal': None}, response_metadata={'token_usage': {'completion_tokens': 22, 'prompt_tokens': 150, 'total_tokens': 172, 'completion_tokens_details': {'accepted_prediction_tokens': 0, 'audio_tokens': 0, 'reasoning_tokens': 0, 'rejected_prediction_tokens': 0}, 'prompt_tokens_details': {'audio_tokens': 0, 'cached_tokens': 0}}, 'model_name': 'gpt-4o', 'system_fingerprint': 'fp_62f96df568', 'finish_reason': 'tool_calls', 'logprobs': None}, id='run-8824ff72-89cd-477b-9022-3c446c2d03a3-0', tool_calls=[{'name': 'tavily_search_results_json', 'args': {'query': 'current weather in San Francisco'}, 'id': 'call_qE1R86l29HQWcXzcx6vZ82qR', 'type': 'tool_call'}], usage_metadata={'input_tokens': 150, 'output_tokens': 22, 'total_tokens': 172, 'input_token_details': {'audio': 0, 'cache_read': 0}, 'output_token_details': {'audio': 0, 'reasoning': 0}})]}\n",
      "{'messages': [AIMessage(content='', additional_kwargs={'tool_calls': [{'id': 'call_qE1R86l29HQWcXzcx6vZ82qR', 'function': {'arguments': '{\"query\":\"current weather in San Francisco\"}', 'name': 'tavily_search_results_json'}, 'type': 'function'}], 'refusal': None}, response_metadata={'token_usage': {'completion_tokens': 22, 'prompt_tokens': 150, 'total_tokens': 172, 'completion_tokens_details': {'accepted_prediction_tokens': 0, 'audio_tokens': 0, 'reasoning_tokens': 0, 'rejected_prediction_tokens': 0}, 'prompt_tokens_details': {'audio_tokens': 0, 'cached_tokens': 0}}, 'model_name': 'gpt-4o', 'system_fingerprint': 'fp_62f96df568', 'finish_reason': 'tool_calls', 'logprobs': None}, id='run-8824ff72-89cd-477b-9022-3c446c2d03a3-0', tool_calls=[{'name': 'tavily_search_results_json', 'args': {'query': 'current weather in San Francisco'}, 'id': 'call_qE1R86l29HQWcXzcx6vZ82qR', 'type': 'tool_call'}], usage_metadata={'input_tokens': 150, 'output_tokens': 22, 'total_tokens': 172, 'input_token_details': {'audio': 0, 'cache_read': 0}, 'output_token_details': {'audio': 0, 'reasoning': 0}})]}\n",
      "()\n"
     ]
    }
   ],
   "source": [
    "messages = [HumanMessage(content=\"Whats the weather in SF?\")]\n",
    "thread = {\"configurable\": {\"thread_id\": \"1\"}}\n",
    "for event in abot.graph.stream({\"messages\": messages}, thread):\n",
    "    for v in event.values():\n",
    "        print(v)"
   ]
  },
  {
   "cell_type": "code",
   "execution_count": 22,
   "id": "42dd2fe5-5f71-4977-a196-24f195948bbc",
   "metadata": {},
   "outputs": [
    {
     "data": {
      "text/plain": [
       "StateSnapshot(values={'messages': [HumanMessage(content='Whats the weather in SF?', additional_kwargs={}, response_metadata={}, id='77fa2d90-adf1-4828-96b9-bf3f3b6c1fbd'), AIMessage(content='', additional_kwargs={'tool_calls': [{'id': 'call_qE1R86l29HQWcXzcx6vZ82qR', 'function': {'arguments': '{\"query\":\"current weather in San Francisco\"}', 'name': 'tavily_search_results_json'}, 'type': 'function'}], 'refusal': None}, response_metadata={'token_usage': {'completion_tokens': 22, 'prompt_tokens': 150, 'total_tokens': 172, 'completion_tokens_details': {'accepted_prediction_tokens': 0, 'audio_tokens': 0, 'reasoning_tokens': 0, 'rejected_prediction_tokens': 0}, 'prompt_tokens_details': {'audio_tokens': 0, 'cached_tokens': 0}}, 'model_name': 'gpt-4o', 'system_fingerprint': 'fp_62f96df568', 'finish_reason': 'tool_calls', 'logprobs': None}, id='run-8824ff72-89cd-477b-9022-3c446c2d03a3-0', tool_calls=[{'name': 'tavily_search_results_json', 'args': {'query': 'current weather in San Francisco'}, 'id': 'call_qE1R86l29HQWcXzcx6vZ82qR', 'type': 'tool_call'}], usage_metadata={'input_tokens': 150, 'output_tokens': 22, 'total_tokens': 172, 'input_token_details': {'audio': 0, 'cache_read': 0}, 'output_token_details': {'audio': 0, 'reasoning': 0}})]}, next=('action',), config={'configurable': {'thread_id': '1', 'checkpoint_ns': '', 'checkpoint_id': '1efa29bf-a150-6a02-8001-5875a4ee240c'}}, metadata={'source': 'loop', 'writes': {'llm': {'messages': [AIMessage(content='', additional_kwargs={'tool_calls': [{'id': 'call_qE1R86l29HQWcXzcx6vZ82qR', 'function': {'arguments': '{\"query\":\"current weather in San Francisco\"}', 'name': 'tavily_search_results_json'}, 'type': 'function'}], 'refusal': None}, response_metadata={'token_usage': {'completion_tokens': 22, 'prompt_tokens': 150, 'total_tokens': 172, 'completion_tokens_details': {'accepted_prediction_tokens': 0, 'audio_tokens': 0, 'reasoning_tokens': 0, 'rejected_prediction_tokens': 0}, 'prompt_tokens_details': {'audio_tokens': 0, 'cached_tokens': 0}}, 'model_name': 'gpt-4o', 'system_fingerprint': 'fp_62f96df568', 'finish_reason': 'tool_calls', 'logprobs': None}, id='run-8824ff72-89cd-477b-9022-3c446c2d03a3-0', tool_calls=[{'name': 'tavily_search_results_json', 'args': {'query': 'current weather in San Francisco'}, 'id': 'call_qE1R86l29HQWcXzcx6vZ82qR', 'type': 'tool_call'}], usage_metadata={'input_tokens': 150, 'output_tokens': 22, 'total_tokens': 172, 'input_token_details': {'audio': 0, 'cache_read': 0}, 'output_token_details': {'audio': 0, 'reasoning': 0}})]}}, 'thread_id': '1', 'step': 1, 'parents': {}}, created_at='2024-11-14T15:20:27.108771+00:00', parent_config={'configurable': {'thread_id': '1', 'checkpoint_ns': '', 'checkpoint_id': '1efa29bf-7ba0-6668-8000-e98341f142f7'}}, tasks=(PregelTask(id='18290ab5-cf05-ffe8-2942-a659a77899f1', name='action', path=('__pregel_pull', 'action'), error=None, interrupts=(), state=None, result=None),))"
      ]
     },
     "execution_count": 22,
     "metadata": {},
     "output_type": "execute_result"
    }
   ],
   "source": [
    "abot.graph.get_state(thread)"
   ]
  },
  {
   "cell_type": "code",
   "execution_count": 24,
   "id": "69d8bf7c-ba86-46e2-930b-416bd24b2a26",
   "metadata": {},
   "outputs": [
    {
     "data": {
      "text/plain": [
       "('action',)"
      ]
     },
     "execution_count": 24,
     "metadata": {},
     "output_type": "execute_result"
    }
   ],
   "source": [
    "abot.graph.get_state(thread).next"
   ]
  },
  {
   "cell_type": "markdown",
   "id": "9eac189d-1a6f-4dd7-b21b-d5ef80eb34d3",
   "metadata": {},
   "source": [
    "## continue after interrupt"
   ]
  },
  {
   "cell_type": "code",
   "execution_count": 28,
   "id": "03b722af-ddec-405c-bf2c-f55f79cf5697",
   "metadata": {},
   "outputs": [
    {
     "name": "stdout",
     "output_type": "stream",
     "text": [
      "Calling: {'name': 'tavily_search_results_json', 'args': {'query': 'current weather in San Francisco'}, 'id': 'call_qE1R86l29HQWcXzcx6vZ82qR', 'type': 'tool_call'}\n",
      "Back to the model!\n",
      "{'messages': [ToolMessage(content='[{\\'url\\': \\'https://www.weatherapi.com/\\', \\'content\\': \"{\\'location\\': {\\'name\\': \\'San Francisco\\', \\'region\\': \\'California\\', \\'country\\': \\'United States of America\\', \\'lat\\': 37.775, \\'lon\\': -122.4183, \\'tz_id\\': \\'America/Los_Angeles\\', \\'localtime_epoch\\': 1731643093, \\'localtime\\': \\'2024-11-14 19:58\\'}, \\'current\\': {\\'last_updated_epoch\\': 1731642300, \\'last_updated\\': \\'2024-11-14 19:45\\', \\'temp_c\\': 13.9, \\'temp_f\\': 57.0, \\'is_day\\': 0, \\'condition\\': {\\'text\\': \\'Partly cloudy\\', \\'icon\\': \\'//cdn.weatherapi.com/weather/64x64/night/116.png\\', \\'code\\': 1003}, \\'wind_mph\\': 11.9, \\'wind_kph\\': 19.1, \\'wind_degree\\': 287, \\'wind_dir\\': \\'WNW\\', \\'pressure_mb\\': 1015.0, \\'pressure_in\\': 29.97, \\'precip_mm\\': 0.0, \\'precip_in\\': 0.0, \\'humidity\\': 72, \\'cloud\\': 50, \\'feelslike_c\\': 12.4, \\'feelslike_f\\': 54.3, \\'windchill_c\\': 11.1, \\'windchill_f\\': 52.0, \\'heatindex_c\\': 12.6, \\'heatindex_f\\': 54.7, \\'dewpoint_c\\': 10.0, \\'dewpoint_f\\': 50.1, \\'vis_km\\': 16.0, \\'vis_miles\\': 9.0, \\'uv\\': 0.0, \\'gust_mph\\': 17.3, \\'gust_kph\\': 27.8}}\"}, {\\'url\\': \\'https://myforecast.co/bin/expanded_forecast_15day.m?city=12156&metric=false\\', \\'content\\': \\'Forecasts: 15-Day Forecast My Location: San Francisco, CA Current Time: 04:27:23 AM PST 1 Weather Alert: Maps | More Weather : 15-Day Forecast [Updated: Nov 09 2024 / 01:23 AM PST ] Day : High Temp. Low Temp. Wind Speed/Dir. Humidity: Comfort Level: UV Index: Precip. Probability\\'}]', name='tavily_search_results_json', id='ca25331b-7cb3-457b-abe4-9baa164456d0', tool_call_id='call_qE1R86l29HQWcXzcx6vZ82qR')]}\n",
      "{'messages': [HumanMessage(content='Whats the weather in SF?', additional_kwargs={}, response_metadata={}, id='77fa2d90-adf1-4828-96b9-bf3f3b6c1fbd'), AIMessage(content='', additional_kwargs={'tool_calls': [{'id': 'call_qE1R86l29HQWcXzcx6vZ82qR', 'function': {'arguments': '{\"query\":\"current weather in San Francisco\"}', 'name': 'tavily_search_results_json'}, 'type': 'function'}], 'refusal': None}, response_metadata={'token_usage': {'completion_tokens': 22, 'prompt_tokens': 150, 'total_tokens': 172, 'completion_tokens_details': {'accepted_prediction_tokens': 0, 'audio_tokens': 0, 'reasoning_tokens': 0, 'rejected_prediction_tokens': 0}, 'prompt_tokens_details': {'audio_tokens': 0, 'cached_tokens': 0}}, 'model_name': 'gpt-4o', 'system_fingerprint': 'fp_62f96df568', 'finish_reason': 'tool_calls', 'logprobs': None}, id='run-8824ff72-89cd-477b-9022-3c446c2d03a3-0', tool_calls=[{'name': 'tavily_search_results_json', 'args': {'query': 'current weather in San Francisco'}, 'id': 'call_qE1R86l29HQWcXzcx6vZ82qR', 'type': 'tool_call'}], usage_metadata={'input_tokens': 150, 'output_tokens': 22, 'total_tokens': 172, 'input_token_details': {'audio': 0, 'cache_read': 0}, 'output_token_details': {'audio': 0, 'reasoning': 0}}), ToolMessage(content='[{\\'url\\': \\'https://www.weatherapi.com/\\', \\'content\\': \"{\\'location\\': {\\'name\\': \\'San Francisco\\', \\'region\\': \\'California\\', \\'country\\': \\'United States of America\\', \\'lat\\': 37.775, \\'lon\\': -122.4183, \\'tz_id\\': \\'America/Los_Angeles\\', \\'localtime_epoch\\': 1731643093, \\'localtime\\': \\'2024-11-14 19:58\\'}, \\'current\\': {\\'last_updated_epoch\\': 1731642300, \\'last_updated\\': \\'2024-11-14 19:45\\', \\'temp_c\\': 13.9, \\'temp_f\\': 57.0, \\'is_day\\': 0, \\'condition\\': {\\'text\\': \\'Partly cloudy\\', \\'icon\\': \\'//cdn.weatherapi.com/weather/64x64/night/116.png\\', \\'code\\': 1003}, \\'wind_mph\\': 11.9, \\'wind_kph\\': 19.1, \\'wind_degree\\': 287, \\'wind_dir\\': \\'WNW\\', \\'pressure_mb\\': 1015.0, \\'pressure_in\\': 29.97, \\'precip_mm\\': 0.0, \\'precip_in\\': 0.0, \\'humidity\\': 72, \\'cloud\\': 50, \\'feelslike_c\\': 12.4, \\'feelslike_f\\': 54.3, \\'windchill_c\\': 11.1, \\'windchill_f\\': 52.0, \\'heatindex_c\\': 12.6, \\'heatindex_f\\': 54.7, \\'dewpoint_c\\': 10.0, \\'dewpoint_f\\': 50.1, \\'vis_km\\': 16.0, \\'vis_miles\\': 9.0, \\'uv\\': 0.0, \\'gust_mph\\': 17.3, \\'gust_kph\\': 27.8}}\"}, {\\'url\\': \\'https://myforecast.co/bin/expanded_forecast_15day.m?city=12156&metric=false\\', \\'content\\': \\'Forecasts: 15-Day Forecast My Location: San Francisco, CA Current Time: 04:27:23 AM PST 1 Weather Alert: Maps | More Weather : 15-Day Forecast [Updated: Nov 09 2024 / 01:23 AM PST ] Day : High Temp. Low Temp. Wind Speed/Dir. Humidity: Comfort Level: UV Index: Precip. Probability\\'}]', name='tavily_search_results_json', id='ca25331b-7cb3-457b-abe4-9baa164456d0', tool_call_id='call_qE1R86l29HQWcXzcx6vZ82qR'), AIMessage(content='The current weather in San Francisco is partly cloudy with a temperature of 13.9°C (57.0°F). The wind is coming from the west-northwest at 11.9 mph (19.1 kph). The humidity level is at 72%, and there is no precipitation at the moment. The visibility is 16 kilometers (9 miles), and the UV index is 0.', additional_kwargs={'refusal': None}, response_metadata={'token_usage': {'completion_tokens': 83, 'prompt_tokens': 705, 'total_tokens': 788, 'completion_tokens_details': {'accepted_prediction_tokens': 0, 'audio_tokens': 0, 'reasoning_tokens': 0, 'rejected_prediction_tokens': 0}, 'prompt_tokens_details': {'audio_tokens': 0, 'cached_tokens': 0}}, 'model_name': 'gpt-4o', 'system_fingerprint': 'fp_62f96df568', 'finish_reason': 'stop', 'logprobs': None}, id='run-aa910451-c0e7-4c0a-8001-564c4409e0c6-0', usage_metadata={'input_tokens': 705, 'output_tokens': 83, 'total_tokens': 788, 'input_token_details': {'audio': 0, 'cache_read': 0}, 'output_token_details': {'audio': 0, 'reasoning': 0}})]}\n",
      "{'messages': [AIMessage(content='The current weather in San Francisco is partly cloudy with a temperature of 13.9°C (57.0°F). The wind is coming from the west-northwest at 11.9 mph (19.1 kph). The humidity level is at 72%, and there is no precipitation at the moment. The visibility is 16 kilometers (9 miles), and the UV index is 0.', additional_kwargs={'refusal': None}, response_metadata={'token_usage': {'completion_tokens': 83, 'prompt_tokens': 705, 'total_tokens': 788, 'completion_tokens_details': {'accepted_prediction_tokens': 0, 'audio_tokens': 0, 'reasoning_tokens': 0, 'rejected_prediction_tokens': 0}, 'prompt_tokens_details': {'audio_tokens': 0, 'cached_tokens': 0}}, 'model_name': 'gpt-4o', 'system_fingerprint': 'fp_62f96df568', 'finish_reason': 'stop', 'logprobs': None}, id='run-aa910451-c0e7-4c0a-8001-564c4409e0c6-0', usage_metadata={'input_tokens': 705, 'output_tokens': 83, 'total_tokens': 788, 'input_token_details': {'audio': 0, 'cache_read': 0}, 'output_token_details': {'audio': 0, 'reasoning': 0}})]}\n"
     ]
    }
   ],
   "source": [
    "for event in abot.graph.stream(None, thread):\n",
    "    for v in event.values():\n",
    "        print(v)"
   ]
  },
  {
   "cell_type": "code",
   "execution_count": 30,
   "id": "9e5fbb53-08ad-426b-9279-7af62bec4491",
   "metadata": {},
   "outputs": [
    {
     "data": {
      "text/plain": [
       "StateSnapshot(values={'messages': [HumanMessage(content='Whats the weather in SF?', additional_kwargs={}, response_metadata={}, id='77fa2d90-adf1-4828-96b9-bf3f3b6c1fbd'), AIMessage(content='', additional_kwargs={'tool_calls': [{'id': 'call_qE1R86l29HQWcXzcx6vZ82qR', 'function': {'arguments': '{\"query\":\"current weather in San Francisco\"}', 'name': 'tavily_search_results_json'}, 'type': 'function'}], 'refusal': None}, response_metadata={'token_usage': {'completion_tokens': 22, 'prompt_tokens': 150, 'total_tokens': 172, 'completion_tokens_details': {'accepted_prediction_tokens': 0, 'audio_tokens': 0, 'reasoning_tokens': 0, 'rejected_prediction_tokens': 0}, 'prompt_tokens_details': {'audio_tokens': 0, 'cached_tokens': 0}}, 'model_name': 'gpt-4o', 'system_fingerprint': 'fp_62f96df568', 'finish_reason': 'tool_calls', 'logprobs': None}, id='run-8824ff72-89cd-477b-9022-3c446c2d03a3-0', tool_calls=[{'name': 'tavily_search_results_json', 'args': {'query': 'current weather in San Francisco'}, 'id': 'call_qE1R86l29HQWcXzcx6vZ82qR', 'type': 'tool_call'}], usage_metadata={'input_tokens': 150, 'output_tokens': 22, 'total_tokens': 172, 'input_token_details': {'audio': 0, 'cache_read': 0}, 'output_token_details': {'audio': 0, 'reasoning': 0}}), ToolMessage(content='[{\\'url\\': \\'https://www.weatherapi.com/\\', \\'content\\': \"{\\'location\\': {\\'name\\': \\'San Francisco\\', \\'region\\': \\'California\\', \\'country\\': \\'United States of America\\', \\'lat\\': 37.775, \\'lon\\': -122.4183, \\'tz_id\\': \\'America/Los_Angeles\\', \\'localtime_epoch\\': 1731643093, \\'localtime\\': \\'2024-11-14 19:58\\'}, \\'current\\': {\\'last_updated_epoch\\': 1731642300, \\'last_updated\\': \\'2024-11-14 19:45\\', \\'temp_c\\': 13.9, \\'temp_f\\': 57.0, \\'is_day\\': 0, \\'condition\\': {\\'text\\': \\'Partly cloudy\\', \\'icon\\': \\'//cdn.weatherapi.com/weather/64x64/night/116.png\\', \\'code\\': 1003}, \\'wind_mph\\': 11.9, \\'wind_kph\\': 19.1, \\'wind_degree\\': 287, \\'wind_dir\\': \\'WNW\\', \\'pressure_mb\\': 1015.0, \\'pressure_in\\': 29.97, \\'precip_mm\\': 0.0, \\'precip_in\\': 0.0, \\'humidity\\': 72, \\'cloud\\': 50, \\'feelslike_c\\': 12.4, \\'feelslike_f\\': 54.3, \\'windchill_c\\': 11.1, \\'windchill_f\\': 52.0, \\'heatindex_c\\': 12.6, \\'heatindex_f\\': 54.7, \\'dewpoint_c\\': 10.0, \\'dewpoint_f\\': 50.1, \\'vis_km\\': 16.0, \\'vis_miles\\': 9.0, \\'uv\\': 0.0, \\'gust_mph\\': 17.3, \\'gust_kph\\': 27.8}}\"}, {\\'url\\': \\'https://myforecast.co/bin/expanded_forecast_15day.m?city=12156&metric=false\\', \\'content\\': \\'Forecasts: 15-Day Forecast My Location: San Francisco, CA Current Time: 04:27:23 AM PST 1 Weather Alert: Maps | More Weather : 15-Day Forecast [Updated: Nov 09 2024 / 01:23 AM PST ] Day : High Temp. Low Temp. Wind Speed/Dir. Humidity: Comfort Level: UV Index: Precip. Probability\\'}]', name='tavily_search_results_json', id='ca25331b-7cb3-457b-abe4-9baa164456d0', tool_call_id='call_qE1R86l29HQWcXzcx6vZ82qR'), AIMessage(content='The current weather in San Francisco is partly cloudy with a temperature of 13.9°C (57.0°F). The wind is coming from the west-northwest at 11.9 mph (19.1 kph). The humidity level is at 72%, and there is no precipitation at the moment. The visibility is 16 kilometers (9 miles), and the UV index is 0.', additional_kwargs={'refusal': None}, response_metadata={'token_usage': {'completion_tokens': 83, 'prompt_tokens': 705, 'total_tokens': 788, 'completion_tokens_details': {'accepted_prediction_tokens': 0, 'audio_tokens': 0, 'reasoning_tokens': 0, 'rejected_prediction_tokens': 0}, 'prompt_tokens_details': {'audio_tokens': 0, 'cached_tokens': 0}}, 'model_name': 'gpt-4o', 'system_fingerprint': 'fp_62f96df568', 'finish_reason': 'stop', 'logprobs': None}, id='run-aa910451-c0e7-4c0a-8001-564c4409e0c6-0', usage_metadata={'input_tokens': 705, 'output_tokens': 83, 'total_tokens': 788, 'input_token_details': {'audio': 0, 'cache_read': 0}, 'output_token_details': {'audio': 0, 'reasoning': 0}})]}, next=(), config={'configurable': {'thread_id': '1', 'checkpoint_ns': '', 'checkpoint_id': '1efa305e-4df7-6c84-8003-788285a2bf6b'}}, metadata={'source': 'loop', 'writes': {'llm': {'messages': [AIMessage(content='The current weather in San Francisco is partly cloudy with a temperature of 13.9°C (57.0°F). The wind is coming from the west-northwest at 11.9 mph (19.1 kph). The humidity level is at 72%, and there is no precipitation at the moment. The visibility is 16 kilometers (9 miles), and the UV index is 0.', additional_kwargs={'refusal': None}, response_metadata={'token_usage': {'completion_tokens': 83, 'prompt_tokens': 705, 'total_tokens': 788, 'completion_tokens_details': {'accepted_prediction_tokens': 0, 'audio_tokens': 0, 'reasoning_tokens': 0, 'rejected_prediction_tokens': 0}, 'prompt_tokens_details': {'audio_tokens': 0, 'cached_tokens': 0}}, 'model_name': 'gpt-4o', 'system_fingerprint': 'fp_62f96df568', 'finish_reason': 'stop', 'logprobs': None}, id='run-aa910451-c0e7-4c0a-8001-564c4409e0c6-0', usage_metadata={'input_tokens': 705, 'output_tokens': 83, 'total_tokens': 788, 'input_token_details': {'audio': 0, 'cache_read': 0}, 'output_token_details': {'audio': 0, 'reasoning': 0}})]}}, 'thread_id': '1', 'step': 3, 'parents': {}}, created_at='2024-11-15T03:58:38.178973+00:00', parent_config={'configurable': {'thread_id': '1', 'checkpoint_ns': '', 'checkpoint_id': '1efa305e-2ad1-6fac-8002-5dd14cb126c8'}}, tasks=())"
      ]
     },
     "execution_count": 30,
     "metadata": {},
     "output_type": "execute_result"
    }
   ],
   "source": [
    "abot.graph.get_state(thread)"
   ]
  },
  {
   "cell_type": "code",
   "execution_count": 32,
   "id": "34e353c1-46ed-4e49-b367-a674288b54f7",
   "metadata": {},
   "outputs": [
    {
     "data": {
      "text/plain": [
       "()"
      ]
     },
     "execution_count": 32,
     "metadata": {},
     "output_type": "execute_result"
    }
   ],
   "source": [
    "abot.graph.get_state(thread).next"
   ]
  },
  {
   "cell_type": "code",
   "execution_count": 34,
   "id": "12cfea71-41f8-4526-90a8-e07795c6399f",
   "metadata": {},
   "outputs": [
    {
     "name": "stdout",
     "output_type": "stream",
     "text": [
      "{'messages': [HumanMessage(content='Whats the weather in LA?', additional_kwargs={}, response_metadata={}, id='a32d90b5-dfb6-4c96-bd60-9e7bb7f816a5'), AIMessage(content='', additional_kwargs={'tool_calls': [{'id': 'call_cjgCUXBnAWG72seFOqfCgv6o', 'function': {'arguments': '{\"query\":\"current weather in Los Angeles\"}', 'name': 'tavily_search_results_json'}, 'type': 'function'}], 'refusal': None}, response_metadata={'token_usage': {'completion_tokens': 22, 'prompt_tokens': 150, 'total_tokens': 172, 'completion_tokens_details': {'accepted_prediction_tokens': 0, 'audio_tokens': 0, 'reasoning_tokens': 0, 'rejected_prediction_tokens': 0}, 'prompt_tokens_details': {'audio_tokens': 0, 'cached_tokens': 0}}, 'model_name': 'gpt-4o', 'system_fingerprint': 'fp_62f96df568', 'finish_reason': 'tool_calls', 'logprobs': None}, id='run-a892ce38-5465-49f0-9719-e120da87dc16-0', tool_calls=[{'name': 'tavily_search_results_json', 'args': {'query': 'current weather in Los Angeles'}, 'id': 'call_cjgCUXBnAWG72seFOqfCgv6o', 'type': 'tool_call'}], usage_metadata={'input_tokens': 150, 'output_tokens': 22, 'total_tokens': 172, 'input_token_details': {'audio': 0, 'cache_read': 0}, 'output_token_details': {'audio': 0, 'reasoning': 0}})]}\n",
      "{'messages': [AIMessage(content='', additional_kwargs={'tool_calls': [{'id': 'call_cjgCUXBnAWG72seFOqfCgv6o', 'function': {'arguments': '{\"query\":\"current weather in Los Angeles\"}', 'name': 'tavily_search_results_json'}, 'type': 'function'}], 'refusal': None}, response_metadata={'token_usage': {'completion_tokens': 22, 'prompt_tokens': 150, 'total_tokens': 172, 'completion_tokens_details': {'accepted_prediction_tokens': 0, 'audio_tokens': 0, 'reasoning_tokens': 0, 'rejected_prediction_tokens': 0}, 'prompt_tokens_details': {'audio_tokens': 0, 'cached_tokens': 0}}, 'model_name': 'gpt-4o', 'system_fingerprint': 'fp_62f96df568', 'finish_reason': 'tool_calls', 'logprobs': None}, id='run-a892ce38-5465-49f0-9719-e120da87dc16-0', tool_calls=[{'name': 'tavily_search_results_json', 'args': {'query': 'current weather in Los Angeles'}, 'id': 'call_cjgCUXBnAWG72seFOqfCgv6o', 'type': 'tool_call'}], usage_metadata={'input_tokens': 150, 'output_tokens': 22, 'total_tokens': 172, 'input_token_details': {'audio': 0, 'cache_read': 0}, 'output_token_details': {'audio': 0, 'reasoning': 0}})]}\n",
      "()\n",
      "\n",
      " StateSnapshot(values={'messages': [HumanMessage(content='Whats the weather in LA?', additional_kwargs={}, response_metadata={}, id='a32d90b5-dfb6-4c96-bd60-9e7bb7f816a5'), AIMessage(content='', additional_kwargs={'tool_calls': [{'id': 'call_cjgCUXBnAWG72seFOqfCgv6o', 'function': {'arguments': '{\"query\":\"current weather in Los Angeles\"}', 'name': 'tavily_search_results_json'}, 'type': 'function'}], 'refusal': None}, response_metadata={'token_usage': {'completion_tokens': 22, 'prompt_tokens': 150, 'total_tokens': 172, 'completion_tokens_details': {'accepted_prediction_tokens': 0, 'audio_tokens': 0, 'reasoning_tokens': 0, 'rejected_prediction_tokens': 0}, 'prompt_tokens_details': {'audio_tokens': 0, 'cached_tokens': 0}}, 'model_name': 'gpt-4o', 'system_fingerprint': 'fp_62f96df568', 'finish_reason': 'tool_calls', 'logprobs': None}, id='run-a892ce38-5465-49f0-9719-e120da87dc16-0', tool_calls=[{'name': 'tavily_search_results_json', 'args': {'query': 'current weather in Los Angeles'}, 'id': 'call_cjgCUXBnAWG72seFOqfCgv6o', 'type': 'tool_call'}], usage_metadata={'input_tokens': 150, 'output_tokens': 22, 'total_tokens': 172, 'input_token_details': {'audio': 0, 'cache_read': 0}, 'output_token_details': {'audio': 0, 'reasoning': 0}})]}, next=('action',), config={'configurable': {'thread_id': '3', 'checkpoint_ns': '', 'checkpoint_id': '1efa3065-05b2-6954-8001-0cc36d0647dd'}}, metadata={'source': 'loop', 'writes': {'llm': {'messages': [AIMessage(content='', additional_kwargs={'tool_calls': [{'id': 'call_cjgCUXBnAWG72seFOqfCgv6o', 'function': {'arguments': '{\"query\":\"current weather in Los Angeles\"}', 'name': 'tavily_search_results_json'}, 'type': 'function'}], 'refusal': None}, response_metadata={'token_usage': {'completion_tokens': 22, 'prompt_tokens': 150, 'total_tokens': 172, 'completion_tokens_details': {'accepted_prediction_tokens': 0, 'audio_tokens': 0, 'reasoning_tokens': 0, 'rejected_prediction_tokens': 0}, 'prompt_tokens_details': {'audio_tokens': 0, 'cached_tokens': 0}}, 'model_name': 'gpt-4o', 'system_fingerprint': 'fp_62f96df568', 'finish_reason': 'tool_calls', 'logprobs': None}, id='run-a892ce38-5465-49f0-9719-e120da87dc16-0', tool_calls=[{'name': 'tavily_search_results_json', 'args': {'query': 'current weather in Los Angeles'}, 'id': 'call_cjgCUXBnAWG72seFOqfCgv6o', 'type': 'tool_call'}], usage_metadata={'input_tokens': 150, 'output_tokens': 22, 'total_tokens': 172, 'input_token_details': {'audio': 0, 'cache_read': 0}, 'output_token_details': {'audio': 0, 'reasoning': 0}})]}}, 'thread_id': '3', 'step': 1, 'parents': {}}, created_at='2024-11-15T04:01:38.505690+00:00', parent_config={'configurable': {'thread_id': '3', 'checkpoint_ns': '', 'checkpoint_id': '1efa3064-c9d7-6614-8000-194c1f978fb5'}}, tasks=(PregelTask(id='e39a8848-0908-33f2-2fba-3861244ce157', name='action', path=('__pregel_pull', 'action'), error=None, interrupts=(), state=None, result=None),)) \n",
      "\n"
     ]
    },
    {
     "name": "stdin",
     "output_type": "stream",
     "text": [
      "proceed? y\n"
     ]
    },
    {
     "name": "stdout",
     "output_type": "stream",
     "text": [
      "Calling: {'name': 'tavily_search_results_json', 'args': {'query': 'current weather in Los Angeles'}, 'id': 'call_cjgCUXBnAWG72seFOqfCgv6o', 'type': 'tool_call'}\n",
      "Back to the model!\n",
      "{'messages': [ToolMessage(content='[{\\'url\\': \\'https://www.weatherapi.com/\\', \\'content\\': \"{\\'location\\': {\\'name\\': \\'Los Angeles\\', \\'region\\': \\'California\\', \\'country\\': \\'United States of America\\', \\'lat\\': 34.0522, \\'lon\\': -118.2428, \\'tz_id\\': \\'America/Los_Angeles\\', \\'localtime_epoch\\': 1731643294, \\'localtime\\': \\'2024-11-14 20:01\\'}, \\'current\\': {\\'last_updated_epoch\\': 1731643200, \\'last_updated\\': \\'2024-11-14 20:00\\', \\'temp_c\\': 16.1, \\'temp_f\\': 61.0, \\'is_day\\': 0, \\'condition\\': {\\'text\\': \\'Clear\\', \\'icon\\': \\'//cdn.weatherapi.com/weather/64x64/night/113.png\\', \\'code\\': 1000}, \\'wind_mph\\': 4.5, \\'wind_kph\\': 7.2, \\'wind_degree\\': 204, \\'wind_dir\\': \\'SSW\\', \\'pressure_mb\\': 1011.0, \\'pressure_in\\': 29.85, \\'precip_mm\\': 0.0, \\'precip_in\\': 0.0, \\'humidity\\': 75, \\'cloud\\': 0, \\'feelslike_c\\': 16.1, \\'feelslike_f\\': 61.0, \\'windchill_c\\': 15.7, \\'windchill_f\\': 60.3, \\'heatindex_c\\': 15.9, \\'heatindex_f\\': 60.6, \\'dewpoint_c\\': 9.6, \\'dewpoint_f\\': 49.3, \\'vis_km\\': 16.0, \\'vis_miles\\': 9.0, \\'uv\\': 0.0, \\'gust_mph\\': 5.8, \\'gust_kph\\': 9.3}}\"}, {\\'url\\': \\'https://www.weather.gov/lox/\\', \\'content\\': \\'NOAA National Weather Service Los Angeles, CA. HOME. FORECAST. Local; ... Thu, Nov 14, 2024 at 12:06:11 am PST Watches, Warnings & Advisories. Zoom Out. Winter Weather Advisory. High Surf Advisory. Small Craft Advisory. Wind Advisory. Frost Advisory. Gale Watch . Text Product Selector (Selected product opens in current window) Hazards\\'}]', name='tavily_search_results_json', id='3c37e97f-d736-488e-b232-59b4ed43f0d9', tool_call_id='call_cjgCUXBnAWG72seFOqfCgv6o')]}\n",
      "{'messages': [HumanMessage(content='Whats the weather in LA?', additional_kwargs={}, response_metadata={}, id='a32d90b5-dfb6-4c96-bd60-9e7bb7f816a5'), AIMessage(content='', additional_kwargs={'tool_calls': [{'id': 'call_cjgCUXBnAWG72seFOqfCgv6o', 'function': {'arguments': '{\"query\":\"current weather in Los Angeles\"}', 'name': 'tavily_search_results_json'}, 'type': 'function'}], 'refusal': None}, response_metadata={'token_usage': {'completion_tokens': 22, 'prompt_tokens': 150, 'total_tokens': 172, 'completion_tokens_details': {'accepted_prediction_tokens': 0, 'audio_tokens': 0, 'reasoning_tokens': 0, 'rejected_prediction_tokens': 0}, 'prompt_tokens_details': {'audio_tokens': 0, 'cached_tokens': 0}}, 'model_name': 'gpt-4o', 'system_fingerprint': 'fp_62f96df568', 'finish_reason': 'tool_calls', 'logprobs': None}, id='run-a892ce38-5465-49f0-9719-e120da87dc16-0', tool_calls=[{'name': 'tavily_search_results_json', 'args': {'query': 'current weather in Los Angeles'}, 'id': 'call_cjgCUXBnAWG72seFOqfCgv6o', 'type': 'tool_call'}], usage_metadata={'input_tokens': 150, 'output_tokens': 22, 'total_tokens': 172, 'input_token_details': {'audio': 0, 'cache_read': 0}, 'output_token_details': {'audio': 0, 'reasoning': 0}}), ToolMessage(content='[{\\'url\\': \\'https://www.weatherapi.com/\\', \\'content\\': \"{\\'location\\': {\\'name\\': \\'Los Angeles\\', \\'region\\': \\'California\\', \\'country\\': \\'United States of America\\', \\'lat\\': 34.0522, \\'lon\\': -118.2428, \\'tz_id\\': \\'America/Los_Angeles\\', \\'localtime_epoch\\': 1731643294, \\'localtime\\': \\'2024-11-14 20:01\\'}, \\'current\\': {\\'last_updated_epoch\\': 1731643200, \\'last_updated\\': \\'2024-11-14 20:00\\', \\'temp_c\\': 16.1, \\'temp_f\\': 61.0, \\'is_day\\': 0, \\'condition\\': {\\'text\\': \\'Clear\\', \\'icon\\': \\'//cdn.weatherapi.com/weather/64x64/night/113.png\\', \\'code\\': 1000}, \\'wind_mph\\': 4.5, \\'wind_kph\\': 7.2, \\'wind_degree\\': 204, \\'wind_dir\\': \\'SSW\\', \\'pressure_mb\\': 1011.0, \\'pressure_in\\': 29.85, \\'precip_mm\\': 0.0, \\'precip_in\\': 0.0, \\'humidity\\': 75, \\'cloud\\': 0, \\'feelslike_c\\': 16.1, \\'feelslike_f\\': 61.0, \\'windchill_c\\': 15.7, \\'windchill_f\\': 60.3, \\'heatindex_c\\': 15.9, \\'heatindex_f\\': 60.6, \\'dewpoint_c\\': 9.6, \\'dewpoint_f\\': 49.3, \\'vis_km\\': 16.0, \\'vis_miles\\': 9.0, \\'uv\\': 0.0, \\'gust_mph\\': 5.8, \\'gust_kph\\': 9.3}}\"}, {\\'url\\': \\'https://www.weather.gov/lox/\\', \\'content\\': \\'NOAA National Weather Service Los Angeles, CA. HOME. FORECAST. Local; ... Thu, Nov 14, 2024 at 12:06:11 am PST Watches, Warnings & Advisories. Zoom Out. Winter Weather Advisory. High Surf Advisory. Small Craft Advisory. Wind Advisory. Frost Advisory. Gale Watch . Text Product Selector (Selected product opens in current window) Hazards\\'}]', name='tavily_search_results_json', id='3c37e97f-d736-488e-b232-59b4ed43f0d9', tool_call_id='call_cjgCUXBnAWG72seFOqfCgv6o'), AIMessage(content=\"The current weather in Los Angeles is clear with a temperature of 16.1°C (61.0°F). The wind is coming from the south-southwest at 4.5 mph (7.2 kph), and the humidity is at 75%. There's no precipitation, and the visibility is quite good at 16 km (9 miles).\", additional_kwargs={'refusal': None}, response_metadata={'token_usage': {'completion_tokens': 73, 'prompt_tokens': 688, 'total_tokens': 761, 'completion_tokens_details': {'accepted_prediction_tokens': 0, 'audio_tokens': 0, 'reasoning_tokens': 0, 'rejected_prediction_tokens': 0}, 'prompt_tokens_details': {'audio_tokens': 0, 'cached_tokens': 0}}, 'model_name': 'gpt-4o', 'system_fingerprint': 'fp_62f96df568', 'finish_reason': 'stop', 'logprobs': None}, id='run-21879029-6a83-4273-b497-1a129237e80b-0', usage_metadata={'input_tokens': 688, 'output_tokens': 73, 'total_tokens': 761, 'input_token_details': {'audio': 0, 'cache_read': 0}, 'output_token_details': {'audio': 0, 'reasoning': 0}})]}\n",
      "{'messages': [AIMessage(content=\"The current weather in Los Angeles is clear with a temperature of 16.1°C (61.0°F). The wind is coming from the south-southwest at 4.5 mph (7.2 kph), and the humidity is at 75%. There's no precipitation, and the visibility is quite good at 16 km (9 miles).\", additional_kwargs={'refusal': None}, response_metadata={'token_usage': {'completion_tokens': 73, 'prompt_tokens': 688, 'total_tokens': 761, 'completion_tokens_details': {'accepted_prediction_tokens': 0, 'audio_tokens': 0, 'reasoning_tokens': 0, 'rejected_prediction_tokens': 0}, 'prompt_tokens_details': {'audio_tokens': 0, 'cached_tokens': 0}}, 'model_name': 'gpt-4o', 'system_fingerprint': 'fp_62f96df568', 'finish_reason': 'stop', 'logprobs': None}, id='run-21879029-6a83-4273-b497-1a129237e80b-0', usage_metadata={'input_tokens': 688, 'output_tokens': 73, 'total_tokens': 761, 'input_token_details': {'audio': 0, 'cache_read': 0}, 'output_token_details': {'audio': 0, 'reasoning': 0}})]}\n"
     ]
    }
   ],
   "source": [
    "messages = [HumanMessage(\"Whats the weather in LA?\")]\n",
    "thread = {\"configurable\": {\"thread_id\": \"3\"}}\n",
    "for event in abot.graph.stream({\"messages\": messages}, thread):\n",
    "    for v in event.values():\n",
    "        print(v)\n",
    "while abot.graph.get_state(thread).next:\n",
    "    print(\"\\n\", abot.graph.get_state(thread),\"\\n\")\n",
    "    _input = input(\"proceed?\")\n",
    "    if _input != \"y\":\n",
    "        print(\"aborting\")\n",
    "        break\n",
    "    for event in abot.graph.stream(None, thread):\n",
    "        for v in event.values():\n",
    "            print(v)"
   ]
  },
  {
   "cell_type": "markdown",
   "id": "ca1c95f7-7d6c-4de5-84e0-c0f08984f98a",
   "metadata": {},
   "source": [
    "## Modify State"
   ]
  },
  {
   "cell_type": "code",
   "execution_count": 37,
   "id": "73d45fc7-9e62-47b3-b5dd-ae6f5330b11f",
   "metadata": {},
   "outputs": [
    {
     "name": "stdout",
     "output_type": "stream",
     "text": [
      "{'messages': [HumanMessage(content='Whats the weather in LA?', additional_kwargs={}, response_metadata={}, id='ef6653bd-8331-47a8-85c7-0e33d8abfec6'), AIMessage(content='', additional_kwargs={'tool_calls': [{'id': 'call_qpba6g9BjomRyPhqaxwMMxMc', 'function': {'arguments': '{\"query\":\"current weather in Los Angeles\"}', 'name': 'tavily_search_results_json'}, 'type': 'function'}], 'refusal': None}, response_metadata={'token_usage': {'completion_tokens': 22, 'prompt_tokens': 150, 'total_tokens': 172, 'completion_tokens_details': {'accepted_prediction_tokens': 0, 'audio_tokens': 0, 'reasoning_tokens': 0, 'rejected_prediction_tokens': 0}, 'prompt_tokens_details': {'audio_tokens': 0, 'cached_tokens': 0}}, 'model_name': 'gpt-4o', 'system_fingerprint': 'fp_62f96df568', 'finish_reason': 'tool_calls', 'logprobs': None}, id='run-8651afe9-6c2a-4034-8830-e0eb9c5920cf-0', tool_calls=[{'name': 'tavily_search_results_json', 'args': {'query': 'current weather in Los Angeles'}, 'id': 'call_qpba6g9BjomRyPhqaxwMMxMc', 'type': 'tool_call'}], usage_metadata={'input_tokens': 150, 'output_tokens': 22, 'total_tokens': 172, 'input_token_details': {'audio': 0, 'cache_read': 0}, 'output_token_details': {'audio': 0, 'reasoning': 0}})]}\n",
      "{'messages': [AIMessage(content='', additional_kwargs={'tool_calls': [{'id': 'call_qpba6g9BjomRyPhqaxwMMxMc', 'function': {'arguments': '{\"query\":\"current weather in Los Angeles\"}', 'name': 'tavily_search_results_json'}, 'type': 'function'}], 'refusal': None}, response_metadata={'token_usage': {'completion_tokens': 22, 'prompt_tokens': 150, 'total_tokens': 172, 'completion_tokens_details': {'accepted_prediction_tokens': 0, 'audio_tokens': 0, 'reasoning_tokens': 0, 'rejected_prediction_tokens': 0}, 'prompt_tokens_details': {'audio_tokens': 0, 'cached_tokens': 0}}, 'model_name': 'gpt-4o', 'system_fingerprint': 'fp_62f96df568', 'finish_reason': 'tool_calls', 'logprobs': None}, id='run-8651afe9-6c2a-4034-8830-e0eb9c5920cf-0', tool_calls=[{'name': 'tavily_search_results_json', 'args': {'query': 'current weather in Los Angeles'}, 'id': 'call_qpba6g9BjomRyPhqaxwMMxMc', 'type': 'tool_call'}], usage_metadata={'input_tokens': 150, 'output_tokens': 22, 'total_tokens': 172, 'input_token_details': {'audio': 0, 'cache_read': 0}, 'output_token_details': {'audio': 0, 'reasoning': 0}})]}\n",
      "()\n"
     ]
    }
   ],
   "source": [
    "messages = [HumanMessage(\"Whats the weather in LA?\")]\n",
    "thread = {\"configurable\": {\"thread_id\": \"6\"}}\n",
    "for event in abot.graph.stream({\"messages\": messages}, thread):\n",
    "    for v in event.values():\n",
    "        print(v)"
   ]
  },
  {
   "cell_type": "code",
   "execution_count": 39,
   "id": "61feabe1-f5f6-47ac-8137-ed6cdb4fa9c8",
   "metadata": {},
   "outputs": [
    {
     "data": {
      "text/plain": [
       "StateSnapshot(values={'messages': [HumanMessage(content='Whats the weather in LA?', additional_kwargs={}, response_metadata={}, id='ef6653bd-8331-47a8-85c7-0e33d8abfec6'), AIMessage(content='', additional_kwargs={'tool_calls': [{'id': 'call_qpba6g9BjomRyPhqaxwMMxMc', 'function': {'arguments': '{\"query\":\"current weather in Los Angeles\"}', 'name': 'tavily_search_results_json'}, 'type': 'function'}], 'refusal': None}, response_metadata={'token_usage': {'completion_tokens': 22, 'prompt_tokens': 150, 'total_tokens': 172, 'completion_tokens_details': {'accepted_prediction_tokens': 0, 'audio_tokens': 0, 'reasoning_tokens': 0, 'rejected_prediction_tokens': 0}, 'prompt_tokens_details': {'audio_tokens': 0, 'cached_tokens': 0}}, 'model_name': 'gpt-4o', 'system_fingerprint': 'fp_62f96df568', 'finish_reason': 'tool_calls', 'logprobs': None}, id='run-8651afe9-6c2a-4034-8830-e0eb9c5920cf-0', tool_calls=[{'name': 'tavily_search_results_json', 'args': {'query': 'current weather in Los Angeles'}, 'id': 'call_qpba6g9BjomRyPhqaxwMMxMc', 'type': 'tool_call'}], usage_metadata={'input_tokens': 150, 'output_tokens': 22, 'total_tokens': 172, 'input_token_details': {'audio': 0, 'cache_read': 0}, 'output_token_details': {'audio': 0, 'reasoning': 0}})]}, next=('action',), config={'configurable': {'thread_id': '6', 'checkpoint_ns': '', 'checkpoint_id': '1efa3081-06b0-61b4-8001-4147727161fa'}}, metadata={'source': 'loop', 'writes': {'llm': {'messages': [AIMessage(content='', additional_kwargs={'tool_calls': [{'id': 'call_qpba6g9BjomRyPhqaxwMMxMc', 'function': {'arguments': '{\"query\":\"current weather in Los Angeles\"}', 'name': 'tavily_search_results_json'}, 'type': 'function'}], 'refusal': None}, response_metadata={'token_usage': {'completion_tokens': 22, 'prompt_tokens': 150, 'total_tokens': 172, 'completion_tokens_details': {'accepted_prediction_tokens': 0, 'audio_tokens': 0, 'reasoning_tokens': 0, 'rejected_prediction_tokens': 0}, 'prompt_tokens_details': {'audio_tokens': 0, 'cached_tokens': 0}}, 'model_name': 'gpt-4o', 'system_fingerprint': 'fp_62f96df568', 'finish_reason': 'tool_calls', 'logprobs': None}, id='run-8651afe9-6c2a-4034-8830-e0eb9c5920cf-0', tool_calls=[{'name': 'tavily_search_results_json', 'args': {'query': 'current weather in Los Angeles'}, 'id': 'call_qpba6g9BjomRyPhqaxwMMxMc', 'type': 'tool_call'}], usage_metadata={'input_tokens': 150, 'output_tokens': 22, 'total_tokens': 172, 'input_token_details': {'audio': 0, 'cache_read': 0}, 'output_token_details': {'audio': 0, 'reasoning': 0}})]}}, 'thread_id': '6', 'step': 1, 'parents': {}}, created_at='2024-11-15T04:14:10.228811+00:00', parent_config={'configurable': {'thread_id': '6', 'checkpoint_ns': '', 'checkpoint_id': '1efa3080-b8a9-629a-8000-f23a48bca3e0'}}, tasks=(PregelTask(id='01d45944-d022-b994-b711-19b98b30e57f', name='action', path=('__pregel_pull', 'action'), error=None, interrupts=(), state=None, result=None),))"
      ]
     },
     "execution_count": 39,
     "metadata": {},
     "output_type": "execute_result"
    }
   ],
   "source": [
    "abot.graph.get_state(thread)"
   ]
  },
  {
   "cell_type": "code",
   "execution_count": 41,
   "id": "56eeb70e-1f0c-4b8c-8c28-13a9d14e6c56",
   "metadata": {},
   "outputs": [],
   "source": [
    "current_values = abot.graph.get_state(thread)"
   ]
  },
  {
   "cell_type": "code",
   "execution_count": 43,
   "id": "76298a50-35c2-4072-b579-a29156ed8985",
   "metadata": {},
   "outputs": [
    {
     "data": {
      "text/plain": [
       "AIMessage(content='', additional_kwargs={'tool_calls': [{'id': 'call_qpba6g9BjomRyPhqaxwMMxMc', 'function': {'arguments': '{\"query\":\"current weather in Los Angeles\"}', 'name': 'tavily_search_results_json'}, 'type': 'function'}], 'refusal': None}, response_metadata={'token_usage': {'completion_tokens': 22, 'prompt_tokens': 150, 'total_tokens': 172, 'completion_tokens_details': {'accepted_prediction_tokens': 0, 'audio_tokens': 0, 'reasoning_tokens': 0, 'rejected_prediction_tokens': 0}, 'prompt_tokens_details': {'audio_tokens': 0, 'cached_tokens': 0}}, 'model_name': 'gpt-4o', 'system_fingerprint': 'fp_62f96df568', 'finish_reason': 'tool_calls', 'logprobs': None}, id='run-8651afe9-6c2a-4034-8830-e0eb9c5920cf-0', tool_calls=[{'name': 'tavily_search_results_json', 'args': {'query': 'current weather in Los Angeles'}, 'id': 'call_qpba6g9BjomRyPhqaxwMMxMc', 'type': 'tool_call'}], usage_metadata={'input_tokens': 150, 'output_tokens': 22, 'total_tokens': 172, 'input_token_details': {'audio': 0, 'cache_read': 0}, 'output_token_details': {'audio': 0, 'reasoning': 0}})"
      ]
     },
     "execution_count": 43,
     "metadata": {},
     "output_type": "execute_result"
    }
   ],
   "source": [
    "current_values.values['messages'][-1]"
   ]
  },
  {
   "cell_type": "code",
   "execution_count": 45,
   "id": "0297c3f8-e211-4e5d-a3df-34d0e87491a1",
   "metadata": {},
   "outputs": [
    {
     "data": {
      "text/plain": [
       "[{'name': 'tavily_search_results_json',\n",
       "  'args': {'query': 'current weather in Los Angeles'},\n",
       "  'id': 'call_qpba6g9BjomRyPhqaxwMMxMc',\n",
       "  'type': 'tool_call'}]"
      ]
     },
     "execution_count": 45,
     "metadata": {},
     "output_type": "execute_result"
    }
   ],
   "source": [
    "current_values.values['messages'][-1].tool_calls"
   ]
  },
  {
   "cell_type": "code",
   "execution_count": 47,
   "id": "98b39354-ee25-4d92-b44c-d08884894a53",
   "metadata": {},
   "outputs": [],
   "source": [
    "_id = current_values.values['messages'][-1].tool_calls[0]['id']\n",
    "current_values.values['messages'][-1].tool_calls = [\n",
    "    { 'name': 'tavily_search_results_json',\n",
    "      'args': {'query': 'current weather in Louisiana'},\n",
    "      'id': _id,\n",
    "      'type': 'tool_call'}\n",
    "]"
   ]
  },
  {
   "cell_type": "code",
   "execution_count": 49,
   "id": "a872c75f-6800-4756-b6ac-6d915325ed18",
   "metadata": {},
   "outputs": [
    {
     "name": "stdout",
     "output_type": "stream",
     "text": [
      "{'messages': [HumanMessage(content='Whats the weather in LA?', additional_kwargs={}, response_metadata={}, id='ef6653bd-8331-47a8-85c7-0e33d8abfec6'), AIMessage(content='', additional_kwargs={'tool_calls': [{'id': 'call_qpba6g9BjomRyPhqaxwMMxMc', 'function': {'arguments': '{\"query\":\"current weather in Los Angeles\"}', 'name': 'tavily_search_results_json'}, 'type': 'function'}], 'refusal': None}, response_metadata={'token_usage': {'completion_tokens': 22, 'prompt_tokens': 150, 'total_tokens': 172, 'completion_tokens_details': {'accepted_prediction_tokens': 0, 'audio_tokens': 0, 'reasoning_tokens': 0, 'rejected_prediction_tokens': 0}, 'prompt_tokens_details': {'audio_tokens': 0, 'cached_tokens': 0}}, 'model_name': 'gpt-4o', 'system_fingerprint': 'fp_62f96df568', 'finish_reason': 'tool_calls', 'logprobs': None}, id='run-8651afe9-6c2a-4034-8830-e0eb9c5920cf-0', tool_calls=[{'name': 'tavily_search_results_json', 'args': {'query': 'current weather in Louisiana'}, 'id': 'call_qpba6g9BjomRyPhqaxwMMxMc', 'type': 'tool_call'}], usage_metadata={'input_tokens': 150, 'output_tokens': 22, 'total_tokens': 172, 'input_token_details': {'audio': 0, 'cache_read': 0}, 'output_token_details': {'audio': 0, 'reasoning': 0}})]}\n"
     ]
    },
    {
     "data": {
      "text/plain": [
       "{'configurable': {'thread_id': '6',\n",
       "  'checkpoint_ns': '',\n",
       "  'checkpoint_id': '1efa3087-d4cc-67ea-8002-2361f0963187'}}"
      ]
     },
     "execution_count": 49,
     "metadata": {},
     "output_type": "execute_result"
    }
   ],
   "source": [
    "abot.graph.update_state(thread, current_values.values)"
   ]
  },
  {
   "cell_type": "code",
   "execution_count": 51,
   "id": "05b8e849-1259-4231-8211-ccb5bd9f227f",
   "metadata": {},
   "outputs": [
    {
     "data": {
      "text/plain": [
       "[{'name': 'tavily_search_results_json',\n",
       "  'args': {'query': 'current weather in Louisiana'},\n",
       "  'id': 'call_qpba6g9BjomRyPhqaxwMMxMc',\n",
       "  'type': 'tool_call'}]"
      ]
     },
     "execution_count": 51,
     "metadata": {},
     "output_type": "execute_result"
    }
   ],
   "source": [
    "abot.graph.get_state(thread).values['messages'][-1].tool_calls"
   ]
  },
  {
   "cell_type": "code",
   "execution_count": 53,
   "id": "59ddf7a8-333e-4398-a9ea-7076695c182a",
   "metadata": {},
   "outputs": [
    {
     "name": "stdout",
     "output_type": "stream",
     "text": [
      "Calling: {'name': 'tavily_search_results_json', 'args': {'query': 'current weather in Louisiana'}, 'id': 'call_qpba6g9BjomRyPhqaxwMMxMc', 'type': 'tool_call'}\n",
      "Back to the model!\n",
      "{'messages': [ToolMessage(content='[{\\'url\\': \\'https://www.weatherapi.com/\\', \\'content\\': \"{\\'location\\': {\\'name\\': \\'Louisiana\\', \\'region\\': \\'Missouri\\', \\'country\\': \\'USA United States of America\\', \\'lat\\': 39.4411, \\'lon\\': -91.0551, \\'tz_id\\': \\'America/Chicago\\', \\'localtime_epoch\\': 1731644131, \\'localtime\\': \\'2024-11-14 22:15\\'}, \\'current\\': {\\'last_updated_epoch\\': 1731644100, \\'last_updated\\': \\'2024-11-14 22:15\\', \\'temp_c\\': 8.5, \\'temp_f\\': 47.3, \\'is_day\\': 0, \\'condition\\': {\\'text\\': \\'Overcast\\', \\'icon\\': \\'//cdn.weatherapi.com/weather/64x64/night/122.png\\', \\'code\\': 1009}, \\'wind_mph\\': 3.6, \\'wind_kph\\': 5.8, \\'wind_degree\\': 302, \\'wind_dir\\': \\'WNW\\', \\'pressure_mb\\': 1019.0, \\'pressure_in\\': 30.09, \\'precip_mm\\': 0.0, \\'precip_in\\': 0.0, \\'humidity\\': 87, \\'cloud\\': 100, \\'feelslike_c\\': 7.8, \\'feelslike_f\\': 46.1, \\'windchill_c\\': 7.7, \\'windchill_f\\': 45.8, \\'heatindex_c\\': 9.2, \\'heatindex_f\\': 48.6, \\'dewpoint_c\\': 7.1, \\'dewpoint_f\\': 44.7, \\'vis_km\\': 16.0, \\'vis_miles\\': 9.0, \\'uv\\': 0.0, \\'gust_mph\\': 7.3, \\'gust_kph\\': 11.8}}\"}, {\\'url\\': \\'https://forecast.weather.gov/zipcity.php?inputstring=70114\\', \\'content\\': \\'New Orleans LA 30.08°N 89.93°W. Last Update: 6:22 pm CST Nov 8, 2024. Forecast Valid: 7pm CST Nov 8, 2024-6pm CST Nov 15, 2024 . Forecast Discussion . Additional Resources. Radar & Satellite Image. Hourly Weather Forecast. National Digital Forecast Database ... Severe Weather ; Current Outlook Maps ; Drought ; Fire Weather ; Fronts\\'}]', name='tavily_search_results_json', id='6cd259e0-af1f-4fb8-8ac2-d28586127f92', tool_call_id='call_qpba6g9BjomRyPhqaxwMMxMc')]}\n",
      "{'messages': [HumanMessage(content='Whats the weather in LA?', additional_kwargs={}, response_metadata={}, id='ef6653bd-8331-47a8-85c7-0e33d8abfec6'), AIMessage(content='', additional_kwargs={'tool_calls': [{'id': 'call_qpba6g9BjomRyPhqaxwMMxMc', 'function': {'arguments': '{\"query\":\"current weather in Los Angeles\"}', 'name': 'tavily_search_results_json'}, 'type': 'function'}], 'refusal': None}, response_metadata={'token_usage': {'completion_tokens': 22, 'prompt_tokens': 150, 'total_tokens': 172, 'completion_tokens_details': {'accepted_prediction_tokens': 0, 'audio_tokens': 0, 'reasoning_tokens': 0, 'rejected_prediction_tokens': 0}, 'prompt_tokens_details': {'audio_tokens': 0, 'cached_tokens': 0}}, 'model_name': 'gpt-4o', 'system_fingerprint': 'fp_62f96df568', 'finish_reason': 'tool_calls', 'logprobs': None}, id='run-8651afe9-6c2a-4034-8830-e0eb9c5920cf-0', tool_calls=[{'name': 'tavily_search_results_json', 'args': {'query': 'current weather in Louisiana'}, 'id': 'call_qpba6g9BjomRyPhqaxwMMxMc', 'type': 'tool_call'}], usage_metadata={'input_tokens': 150, 'output_tokens': 22, 'total_tokens': 172, 'input_token_details': {'audio': 0, 'cache_read': 0}, 'output_token_details': {'audio': 0, 'reasoning': 0}}), ToolMessage(content='[{\\'url\\': \\'https://www.weatherapi.com/\\', \\'content\\': \"{\\'location\\': {\\'name\\': \\'Louisiana\\', \\'region\\': \\'Missouri\\', \\'country\\': \\'USA United States of America\\', \\'lat\\': 39.4411, \\'lon\\': -91.0551, \\'tz_id\\': \\'America/Chicago\\', \\'localtime_epoch\\': 1731644131, \\'localtime\\': \\'2024-11-14 22:15\\'}, \\'current\\': {\\'last_updated_epoch\\': 1731644100, \\'last_updated\\': \\'2024-11-14 22:15\\', \\'temp_c\\': 8.5, \\'temp_f\\': 47.3, \\'is_day\\': 0, \\'condition\\': {\\'text\\': \\'Overcast\\', \\'icon\\': \\'//cdn.weatherapi.com/weather/64x64/night/122.png\\', \\'code\\': 1009}, \\'wind_mph\\': 3.6, \\'wind_kph\\': 5.8, \\'wind_degree\\': 302, \\'wind_dir\\': \\'WNW\\', \\'pressure_mb\\': 1019.0, \\'pressure_in\\': 30.09, \\'precip_mm\\': 0.0, \\'precip_in\\': 0.0, \\'humidity\\': 87, \\'cloud\\': 100, \\'feelslike_c\\': 7.8, \\'feelslike_f\\': 46.1, \\'windchill_c\\': 7.7, \\'windchill_f\\': 45.8, \\'heatindex_c\\': 9.2, \\'heatindex_f\\': 48.6, \\'dewpoint_c\\': 7.1, \\'dewpoint_f\\': 44.7, \\'vis_km\\': 16.0, \\'vis_miles\\': 9.0, \\'uv\\': 0.0, \\'gust_mph\\': 7.3, \\'gust_kph\\': 11.8}}\"}, {\\'url\\': \\'https://forecast.weather.gov/zipcity.php?inputstring=70114\\', \\'content\\': \\'New Orleans LA 30.08°N 89.93°W. Last Update: 6:22 pm CST Nov 8, 2024. Forecast Valid: 7pm CST Nov 8, 2024-6pm CST Nov 15, 2024 . Forecast Discussion . Additional Resources. Radar & Satellite Image. Hourly Weather Forecast. National Digital Forecast Database ... Severe Weather ; Current Outlook Maps ; Drought ; Fire Weather ; Fronts\\'}]', name='tavily_search_results_json', id='6cd259e0-af1f-4fb8-8ac2-d28586127f92', tool_call_id='call_qpba6g9BjomRyPhqaxwMMxMc'), AIMessage(content='', additional_kwargs={'tool_calls': [{'id': 'call_vn0TuJWE1M5iSfIqTGkrXH7c', 'function': {'arguments': '{\"query\":\"current weather in Los Angeles\"}', 'name': 'tavily_search_results_json'}, 'type': 'function'}], 'refusal': None}, response_metadata={'token_usage': {'completion_tokens': 22, 'prompt_tokens': 710, 'total_tokens': 732, 'completion_tokens_details': {'accepted_prediction_tokens': 0, 'audio_tokens': 0, 'reasoning_tokens': 0, 'rejected_prediction_tokens': 0}, 'prompt_tokens_details': {'audio_tokens': 0, 'cached_tokens': 0}}, 'model_name': 'gpt-4o', 'system_fingerprint': 'fp_62f96df568', 'finish_reason': 'tool_calls', 'logprobs': None}, id='run-1a240dd2-18b4-4736-b826-90f56cc903f4-0', tool_calls=[{'name': 'tavily_search_results_json', 'args': {'query': 'current weather in Los Angeles'}, 'id': 'call_vn0TuJWE1M5iSfIqTGkrXH7c', 'type': 'tool_call'}], usage_metadata={'input_tokens': 710, 'output_tokens': 22, 'total_tokens': 732, 'input_token_details': {'audio': 0, 'cache_read': 0}, 'output_token_details': {'audio': 0, 'reasoning': 0}})]}\n",
      "{'messages': [AIMessage(content='', additional_kwargs={'tool_calls': [{'id': 'call_vn0TuJWE1M5iSfIqTGkrXH7c', 'function': {'arguments': '{\"query\":\"current weather in Los Angeles\"}', 'name': 'tavily_search_results_json'}, 'type': 'function'}], 'refusal': None}, response_metadata={'token_usage': {'completion_tokens': 22, 'prompt_tokens': 710, 'total_tokens': 732, 'completion_tokens_details': {'accepted_prediction_tokens': 0, 'audio_tokens': 0, 'reasoning_tokens': 0, 'rejected_prediction_tokens': 0}, 'prompt_tokens_details': {'audio_tokens': 0, 'cached_tokens': 0}}, 'model_name': 'gpt-4o', 'system_fingerprint': 'fp_62f96df568', 'finish_reason': 'tool_calls', 'logprobs': None}, id='run-1a240dd2-18b4-4736-b826-90f56cc903f4-0', tool_calls=[{'name': 'tavily_search_results_json', 'args': {'query': 'current weather in Los Angeles'}, 'id': 'call_vn0TuJWE1M5iSfIqTGkrXH7c', 'type': 'tool_call'}], usage_metadata={'input_tokens': 710, 'output_tokens': 22, 'total_tokens': 732, 'input_token_details': {'audio': 0, 'cache_read': 0}, 'output_token_details': {'audio': 0, 'reasoning': 0}})]}\n",
      "()\n"
     ]
    }
   ],
   "source": [
    "for event in abot.graph.stream(None, thread):\n",
    "    for v in event.values():\n",
    "        print(v)"
   ]
  },
  {
   "cell_type": "markdown",
   "id": "99e3de5a-49b3-40d4-9411-dc4591ee9512",
   "metadata": {},
   "source": [
    "## Time Travel"
   ]
  },
  {
   "cell_type": "code",
   "execution_count": 56,
   "id": "a3650b73-4427-4e80-9221-8ec241ceb7c3",
   "metadata": {},
   "outputs": [
    {
     "name": "stdout",
     "output_type": "stream",
     "text": [
      "StateSnapshot(values={'messages': [HumanMessage(content='Whats the weather in LA?', additional_kwargs={}, response_metadata={}, id='ef6653bd-8331-47a8-85c7-0e33d8abfec6'), AIMessage(content='', additional_kwargs={'tool_calls': [{'id': 'call_qpba6g9BjomRyPhqaxwMMxMc', 'function': {'arguments': '{\"query\":\"current weather in Los Angeles\"}', 'name': 'tavily_search_results_json'}, 'type': 'function'}], 'refusal': None}, response_metadata={'token_usage': {'completion_tokens': 22, 'prompt_tokens': 150, 'total_tokens': 172, 'completion_tokens_details': {'accepted_prediction_tokens': 0, 'audio_tokens': 0, 'reasoning_tokens': 0, 'rejected_prediction_tokens': 0}, 'prompt_tokens_details': {'audio_tokens': 0, 'cached_tokens': 0}}, 'model_name': 'gpt-4o', 'system_fingerprint': 'fp_62f96df568', 'finish_reason': 'tool_calls', 'logprobs': None}, id='run-8651afe9-6c2a-4034-8830-e0eb9c5920cf-0', tool_calls=[{'name': 'tavily_search_results_json', 'args': {'query': 'current weather in Louisiana'}, 'id': 'call_qpba6g9BjomRyPhqaxwMMxMc', 'type': 'tool_call'}], usage_metadata={'input_tokens': 150, 'output_tokens': 22, 'total_tokens': 172, 'input_token_details': {'audio': 0, 'cache_read': 0}, 'output_token_details': {'audio': 0, 'reasoning': 0}}), ToolMessage(content='[{\\'url\\': \\'https://www.weatherapi.com/\\', \\'content\\': \"{\\'location\\': {\\'name\\': \\'Louisiana\\', \\'region\\': \\'Missouri\\', \\'country\\': \\'USA United States of America\\', \\'lat\\': 39.4411, \\'lon\\': -91.0551, \\'tz_id\\': \\'America/Chicago\\', \\'localtime_epoch\\': 1731644131, \\'localtime\\': \\'2024-11-14 22:15\\'}, \\'current\\': {\\'last_updated_epoch\\': 1731644100, \\'last_updated\\': \\'2024-11-14 22:15\\', \\'temp_c\\': 8.5, \\'temp_f\\': 47.3, \\'is_day\\': 0, \\'condition\\': {\\'text\\': \\'Overcast\\', \\'icon\\': \\'//cdn.weatherapi.com/weather/64x64/night/122.png\\', \\'code\\': 1009}, \\'wind_mph\\': 3.6, \\'wind_kph\\': 5.8, \\'wind_degree\\': 302, \\'wind_dir\\': \\'WNW\\', \\'pressure_mb\\': 1019.0, \\'pressure_in\\': 30.09, \\'precip_mm\\': 0.0, \\'precip_in\\': 0.0, \\'humidity\\': 87, \\'cloud\\': 100, \\'feelslike_c\\': 7.8, \\'feelslike_f\\': 46.1, \\'windchill_c\\': 7.7, \\'windchill_f\\': 45.8, \\'heatindex_c\\': 9.2, \\'heatindex_f\\': 48.6, \\'dewpoint_c\\': 7.1, \\'dewpoint_f\\': 44.7, \\'vis_km\\': 16.0, \\'vis_miles\\': 9.0, \\'uv\\': 0.0, \\'gust_mph\\': 7.3, \\'gust_kph\\': 11.8}}\"}, {\\'url\\': \\'https://forecast.weather.gov/zipcity.php?inputstring=70114\\', \\'content\\': \\'New Orleans LA 30.08°N 89.93°W. Last Update: 6:22 pm CST Nov 8, 2024. Forecast Valid: 7pm CST Nov 8, 2024-6pm CST Nov 15, 2024 . Forecast Discussion . Additional Resources. Radar & Satellite Image. Hourly Weather Forecast. National Digital Forecast Database ... Severe Weather ; Current Outlook Maps ; Drought ; Fire Weather ; Fronts\\'}]', name='tavily_search_results_json', id='6cd259e0-af1f-4fb8-8ac2-d28586127f92', tool_call_id='call_qpba6g9BjomRyPhqaxwMMxMc'), AIMessage(content='', additional_kwargs={'tool_calls': [{'id': 'call_vn0TuJWE1M5iSfIqTGkrXH7c', 'function': {'arguments': '{\"query\":\"current weather in Los Angeles\"}', 'name': 'tavily_search_results_json'}, 'type': 'function'}], 'refusal': None}, response_metadata={'token_usage': {'completion_tokens': 22, 'prompt_tokens': 710, 'total_tokens': 732, 'completion_tokens_details': {'accepted_prediction_tokens': 0, 'audio_tokens': 0, 'reasoning_tokens': 0, 'rejected_prediction_tokens': 0}, 'prompt_tokens_details': {'audio_tokens': 0, 'cached_tokens': 0}}, 'model_name': 'gpt-4o', 'system_fingerprint': 'fp_62f96df568', 'finish_reason': 'tool_calls', 'logprobs': None}, id='run-1a240dd2-18b4-4736-b826-90f56cc903f4-0', tool_calls=[{'name': 'tavily_search_results_json', 'args': {'query': 'current weather in Los Angeles'}, 'id': 'call_vn0TuJWE1M5iSfIqTGkrXH7c', 'type': 'tool_call'}], usage_metadata={'input_tokens': 710, 'output_tokens': 22, 'total_tokens': 732, 'input_token_details': {'audio': 0, 'cache_read': 0}, 'output_token_details': {'audio': 0, 'reasoning': 0}})]}, next=('action',), config={'configurable': {'thread_id': '6', 'checkpoint_ns': '', 'checkpoint_id': '1efa3089-b2e5-61ac-8004-d9064f3ab200'}}, metadata={'source': 'loop', 'writes': {'llm': {'messages': [AIMessage(content='', additional_kwargs={'tool_calls': [{'id': 'call_vn0TuJWE1M5iSfIqTGkrXH7c', 'function': {'arguments': '{\"query\":\"current weather in Los Angeles\"}', 'name': 'tavily_search_results_json'}, 'type': 'function'}], 'refusal': None}, response_metadata={'token_usage': {'completion_tokens': 22, 'prompt_tokens': 710, 'total_tokens': 732, 'completion_tokens_details': {'accepted_prediction_tokens': 0, 'audio_tokens': 0, 'reasoning_tokens': 0, 'rejected_prediction_tokens': 0}, 'prompt_tokens_details': {'audio_tokens': 0, 'cached_tokens': 0}}, 'model_name': 'gpt-4o', 'system_fingerprint': 'fp_62f96df568', 'finish_reason': 'tool_calls', 'logprobs': None}, id='run-1a240dd2-18b4-4736-b826-90f56cc903f4-0', tool_calls=[{'name': 'tavily_search_results_json', 'args': {'query': 'current weather in Los Angeles'}, 'id': 'call_vn0TuJWE1M5iSfIqTGkrXH7c', 'type': 'tool_call'}], usage_metadata={'input_tokens': 710, 'output_tokens': 22, 'total_tokens': 732, 'input_token_details': {'audio': 0, 'cache_read': 0}, 'output_token_details': {'audio': 0, 'reasoning': 0}})]}}, 'thread_id': '6', 'step': 4, 'parents': {}}, created_at='2024-11-15T04:18:03.034379+00:00', parent_config={'configurable': {'thread_id': '6', 'checkpoint_ns': '', 'checkpoint_id': '1efa3089-77d1-6aa2-8003-20bf70f7b51c'}}, tasks=(PregelTask(id='5541d8d1-6e3e-1085-e5ec-641eb3d9c2cf', name='action', path=('__pregel_pull', 'action'), error=None, interrupts=(), state=None, result=None),))\n",
      "--\n",
      "StateSnapshot(values={'messages': [HumanMessage(content='Whats the weather in LA?', additional_kwargs={}, response_metadata={}, id='ef6653bd-8331-47a8-85c7-0e33d8abfec6'), AIMessage(content='', additional_kwargs={'tool_calls': [{'id': 'call_qpba6g9BjomRyPhqaxwMMxMc', 'function': {'arguments': '{\"query\":\"current weather in Los Angeles\"}', 'name': 'tavily_search_results_json'}, 'type': 'function'}], 'refusal': None}, response_metadata={'token_usage': {'completion_tokens': 22, 'prompt_tokens': 150, 'total_tokens': 172, 'completion_tokens_details': {'accepted_prediction_tokens': 0, 'audio_tokens': 0, 'reasoning_tokens': 0, 'rejected_prediction_tokens': 0}, 'prompt_tokens_details': {'audio_tokens': 0, 'cached_tokens': 0}}, 'model_name': 'gpt-4o', 'system_fingerprint': 'fp_62f96df568', 'finish_reason': 'tool_calls', 'logprobs': None}, id='run-8651afe9-6c2a-4034-8830-e0eb9c5920cf-0', tool_calls=[{'name': 'tavily_search_results_json', 'args': {'query': 'current weather in Louisiana'}, 'id': 'call_qpba6g9BjomRyPhqaxwMMxMc', 'type': 'tool_call'}], usage_metadata={'input_tokens': 150, 'output_tokens': 22, 'total_tokens': 172, 'input_token_details': {'audio': 0, 'cache_read': 0}, 'output_token_details': {'audio': 0, 'reasoning': 0}}), ToolMessage(content='[{\\'url\\': \\'https://www.weatherapi.com/\\', \\'content\\': \"{\\'location\\': {\\'name\\': \\'Louisiana\\', \\'region\\': \\'Missouri\\', \\'country\\': \\'USA United States of America\\', \\'lat\\': 39.4411, \\'lon\\': -91.0551, \\'tz_id\\': \\'America/Chicago\\', \\'localtime_epoch\\': 1731644131, \\'localtime\\': \\'2024-11-14 22:15\\'}, \\'current\\': {\\'last_updated_epoch\\': 1731644100, \\'last_updated\\': \\'2024-11-14 22:15\\', \\'temp_c\\': 8.5, \\'temp_f\\': 47.3, \\'is_day\\': 0, \\'condition\\': {\\'text\\': \\'Overcast\\', \\'icon\\': \\'//cdn.weatherapi.com/weather/64x64/night/122.png\\', \\'code\\': 1009}, \\'wind_mph\\': 3.6, \\'wind_kph\\': 5.8, \\'wind_degree\\': 302, \\'wind_dir\\': \\'WNW\\', \\'pressure_mb\\': 1019.0, \\'pressure_in\\': 30.09, \\'precip_mm\\': 0.0, \\'precip_in\\': 0.0, \\'humidity\\': 87, \\'cloud\\': 100, \\'feelslike_c\\': 7.8, \\'feelslike_f\\': 46.1, \\'windchill_c\\': 7.7, \\'windchill_f\\': 45.8, \\'heatindex_c\\': 9.2, \\'heatindex_f\\': 48.6, \\'dewpoint_c\\': 7.1, \\'dewpoint_f\\': 44.7, \\'vis_km\\': 16.0, \\'vis_miles\\': 9.0, \\'uv\\': 0.0, \\'gust_mph\\': 7.3, \\'gust_kph\\': 11.8}}\"}, {\\'url\\': \\'https://forecast.weather.gov/zipcity.php?inputstring=70114\\', \\'content\\': \\'New Orleans LA 30.08°N 89.93°W. Last Update: 6:22 pm CST Nov 8, 2024. Forecast Valid: 7pm CST Nov 8, 2024-6pm CST Nov 15, 2024 . Forecast Discussion . Additional Resources. Radar & Satellite Image. Hourly Weather Forecast. National Digital Forecast Database ... Severe Weather ; Current Outlook Maps ; Drought ; Fire Weather ; Fronts\\'}]', name='tavily_search_results_json', id='6cd259e0-af1f-4fb8-8ac2-d28586127f92', tool_call_id='call_qpba6g9BjomRyPhqaxwMMxMc')]}, next=('llm',), config={'configurable': {'thread_id': '6', 'checkpoint_ns': '', 'checkpoint_id': '1efa3089-77d1-6aa2-8003-20bf70f7b51c'}}, metadata={'source': 'loop', 'writes': {'action': {'messages': [ToolMessage(content='[{\\'url\\': \\'https://www.weatherapi.com/\\', \\'content\\': \"{\\'location\\': {\\'name\\': \\'Louisiana\\', \\'region\\': \\'Missouri\\', \\'country\\': \\'USA United States of America\\', \\'lat\\': 39.4411, \\'lon\\': -91.0551, \\'tz_id\\': \\'America/Chicago\\', \\'localtime_epoch\\': 1731644131, \\'localtime\\': \\'2024-11-14 22:15\\'}, \\'current\\': {\\'last_updated_epoch\\': 1731644100, \\'last_updated\\': \\'2024-11-14 22:15\\', \\'temp_c\\': 8.5, \\'temp_f\\': 47.3, \\'is_day\\': 0, \\'condition\\': {\\'text\\': \\'Overcast\\', \\'icon\\': \\'//cdn.weatherapi.com/weather/64x64/night/122.png\\', \\'code\\': 1009}, \\'wind_mph\\': 3.6, \\'wind_kph\\': 5.8, \\'wind_degree\\': 302, \\'wind_dir\\': \\'WNW\\', \\'pressure_mb\\': 1019.0, \\'pressure_in\\': 30.09, \\'precip_mm\\': 0.0, \\'precip_in\\': 0.0, \\'humidity\\': 87, \\'cloud\\': 100, \\'feelslike_c\\': 7.8, \\'feelslike_f\\': 46.1, \\'windchill_c\\': 7.7, \\'windchill_f\\': 45.8, \\'heatindex_c\\': 9.2, \\'heatindex_f\\': 48.6, \\'dewpoint_c\\': 7.1, \\'dewpoint_f\\': 44.7, \\'vis_km\\': 16.0, \\'vis_miles\\': 9.0, \\'uv\\': 0.0, \\'gust_mph\\': 7.3, \\'gust_kph\\': 11.8}}\"}, {\\'url\\': \\'https://forecast.weather.gov/zipcity.php?inputstring=70114\\', \\'content\\': \\'New Orleans LA 30.08°N 89.93°W. Last Update: 6:22 pm CST Nov 8, 2024. Forecast Valid: 7pm CST Nov 8, 2024-6pm CST Nov 15, 2024 . Forecast Discussion . Additional Resources. Radar & Satellite Image. Hourly Weather Forecast. National Digital Forecast Database ... Severe Weather ; Current Outlook Maps ; Drought ; Fire Weather ; Fronts\\'}]', name='tavily_search_results_json', id='6cd259e0-af1f-4fb8-8ac2-d28586127f92', tool_call_id='call_qpba6g9BjomRyPhqaxwMMxMc')]}}, 'thread_id': '6', 'step': 3, 'parents': {}}, created_at='2024-11-15T04:17:56.839815+00:00', parent_config={'configurable': {'thread_id': '6', 'checkpoint_ns': '', 'checkpoint_id': '1efa3087-d4cc-67ea-8002-2361f0963187'}}, tasks=(PregelTask(id='21e5d7b3-909e-0382-9d0c-9305d491bc1c', name='llm', path=('__pregel_pull', 'llm'), error=None, interrupts=(), state=None, result={'messages': [AIMessage(content='', additional_kwargs={'tool_calls': [{'id': 'call_vn0TuJWE1M5iSfIqTGkrXH7c', 'function': {'arguments': '{\"query\":\"current weather in Los Angeles\"}', 'name': 'tavily_search_results_json'}, 'type': 'function'}], 'refusal': None}, response_metadata={'token_usage': {'completion_tokens': 22, 'prompt_tokens': 710, 'total_tokens': 732, 'completion_tokens_details': {'accepted_prediction_tokens': 0, 'audio_tokens': 0, 'reasoning_tokens': 0, 'rejected_prediction_tokens': 0}, 'prompt_tokens_details': {'audio_tokens': 0, 'cached_tokens': 0}}, 'model_name': 'gpt-4o', 'system_fingerprint': 'fp_62f96df568', 'finish_reason': 'tool_calls', 'logprobs': None}, id='run-1a240dd2-18b4-4736-b826-90f56cc903f4-0', tool_calls=[{'name': 'tavily_search_results_json', 'args': {'query': 'current weather in Los Angeles'}, 'id': 'call_vn0TuJWE1M5iSfIqTGkrXH7c', 'type': 'tool_call'}], usage_metadata={'input_tokens': 710, 'output_tokens': 22, 'total_tokens': 732, 'input_token_details': {'audio': 0, 'cache_read': 0}, 'output_token_details': {'audio': 0, 'reasoning': 0}})]}),))\n",
      "--\n",
      "StateSnapshot(values={'messages': [HumanMessage(content='Whats the weather in LA?', additional_kwargs={}, response_metadata={}, id='ef6653bd-8331-47a8-85c7-0e33d8abfec6'), AIMessage(content='', additional_kwargs={'tool_calls': [{'id': 'call_qpba6g9BjomRyPhqaxwMMxMc', 'function': {'arguments': '{\"query\":\"current weather in Los Angeles\"}', 'name': 'tavily_search_results_json'}, 'type': 'function'}], 'refusal': None}, response_metadata={'token_usage': {'completion_tokens': 22, 'prompt_tokens': 150, 'total_tokens': 172, 'completion_tokens_details': {'accepted_prediction_tokens': 0, 'audio_tokens': 0, 'reasoning_tokens': 0, 'rejected_prediction_tokens': 0}, 'prompt_tokens_details': {'audio_tokens': 0, 'cached_tokens': 0}}, 'model_name': 'gpt-4o', 'system_fingerprint': 'fp_62f96df568', 'finish_reason': 'tool_calls', 'logprobs': None}, id='run-8651afe9-6c2a-4034-8830-e0eb9c5920cf-0', tool_calls=[{'name': 'tavily_search_results_json', 'args': {'query': 'current weather in Louisiana'}, 'id': 'call_qpba6g9BjomRyPhqaxwMMxMc', 'type': 'tool_call'}], usage_metadata={'input_tokens': 150, 'output_tokens': 22, 'total_tokens': 172, 'input_token_details': {'audio': 0, 'cache_read': 0}, 'output_token_details': {'audio': 0, 'reasoning': 0}})]}, next=('action',), config={'configurable': {'thread_id': '6', 'checkpoint_ns': '', 'checkpoint_id': '1efa3087-d4cc-67ea-8002-2361f0963187'}}, metadata={'source': 'update', 'writes': {'llm': {'messages': [HumanMessage(content='Whats the weather in LA?', additional_kwargs={}, response_metadata={}, id='ef6653bd-8331-47a8-85c7-0e33d8abfec6'), AIMessage(content='', additional_kwargs={'tool_calls': [{'id': 'call_qpba6g9BjomRyPhqaxwMMxMc', 'function': {'arguments': '{\"query\":\"current weather in Los Angeles\"}', 'name': 'tavily_search_results_json'}, 'type': 'function'}], 'refusal': None}, response_metadata={'token_usage': {'completion_tokens': 22, 'prompt_tokens': 150, 'total_tokens': 172, 'completion_tokens_details': {'accepted_prediction_tokens': 0, 'audio_tokens': 0, 'reasoning_tokens': 0, 'rejected_prediction_tokens': 0}, 'prompt_tokens_details': {'audio_tokens': 0, 'cached_tokens': 0}}, 'model_name': 'gpt-4o', 'system_fingerprint': 'fp_62f96df568', 'finish_reason': 'tool_calls', 'logprobs': None}, id='run-8651afe9-6c2a-4034-8830-e0eb9c5920cf-0', tool_calls=[{'name': 'tavily_search_results_json', 'args': {'query': 'current weather in Louisiana'}, 'id': 'call_qpba6g9BjomRyPhqaxwMMxMc', 'type': 'tool_call'}], usage_metadata={'input_tokens': 150, 'output_tokens': 22, 'total_tokens': 172, 'input_token_details': {'audio': 0, 'cache_read': 0}, 'output_token_details': {'audio': 0, 'reasoning': 0}})]}}, 'thread_id': '6', 'step': 2, 'parents': {}}, created_at='2024-11-15T04:17:12.902425+00:00', parent_config={'configurable': {'thread_id': '6', 'checkpoint_ns': '', 'checkpoint_id': '1efa3081-06b0-61b4-8001-4147727161fa'}}, tasks=(PregelTask(id='6e7a41f3-a7c4-7641-17ef-a1800b290195', name='action', path=('__pregel_pull', 'action'), error=None, interrupts=(), state=None, result={'messages': [ToolMessage(content='[{\\'url\\': \\'https://www.weatherapi.com/\\', \\'content\\': \"{\\'location\\': {\\'name\\': \\'Louisiana\\', \\'region\\': \\'Missouri\\', \\'country\\': \\'USA United States of America\\', \\'lat\\': 39.4411, \\'lon\\': -91.0551, \\'tz_id\\': \\'America/Chicago\\', \\'localtime_epoch\\': 1731644131, \\'localtime\\': \\'2024-11-14 22:15\\'}, \\'current\\': {\\'last_updated_epoch\\': 1731644100, \\'last_updated\\': \\'2024-11-14 22:15\\', \\'temp_c\\': 8.5, \\'temp_f\\': 47.3, \\'is_day\\': 0, \\'condition\\': {\\'text\\': \\'Overcast\\', \\'icon\\': \\'//cdn.weatherapi.com/weather/64x64/night/122.png\\', \\'code\\': 1009}, \\'wind_mph\\': 3.6, \\'wind_kph\\': 5.8, \\'wind_degree\\': 302, \\'wind_dir\\': \\'WNW\\', \\'pressure_mb\\': 1019.0, \\'pressure_in\\': 30.09, \\'precip_mm\\': 0.0, \\'precip_in\\': 0.0, \\'humidity\\': 87, \\'cloud\\': 100, \\'feelslike_c\\': 7.8, \\'feelslike_f\\': 46.1, \\'windchill_c\\': 7.7, \\'windchill_f\\': 45.8, \\'heatindex_c\\': 9.2, \\'heatindex_f\\': 48.6, \\'dewpoint_c\\': 7.1, \\'dewpoint_f\\': 44.7, \\'vis_km\\': 16.0, \\'vis_miles\\': 9.0, \\'uv\\': 0.0, \\'gust_mph\\': 7.3, \\'gust_kph\\': 11.8}}\"}, {\\'url\\': \\'https://forecast.weather.gov/zipcity.php?inputstring=70114\\', \\'content\\': \\'New Orleans LA 30.08°N 89.93°W. Last Update: 6:22 pm CST Nov 8, 2024. Forecast Valid: 7pm CST Nov 8, 2024-6pm CST Nov 15, 2024 . Forecast Discussion . Additional Resources. Radar & Satellite Image. Hourly Weather Forecast. National Digital Forecast Database ... Severe Weather ; Current Outlook Maps ; Drought ; Fire Weather ; Fronts\\'}]', name='tavily_search_results_json', tool_call_id='call_qpba6g9BjomRyPhqaxwMMxMc')]}),))\n",
      "--\n",
      "StateSnapshot(values={'messages': [HumanMessage(content='Whats the weather in LA?', additional_kwargs={}, response_metadata={}, id='ef6653bd-8331-47a8-85c7-0e33d8abfec6'), AIMessage(content='', additional_kwargs={'tool_calls': [{'id': 'call_qpba6g9BjomRyPhqaxwMMxMc', 'function': {'arguments': '{\"query\":\"current weather in Los Angeles\"}', 'name': 'tavily_search_results_json'}, 'type': 'function'}], 'refusal': None}, response_metadata={'token_usage': {'completion_tokens': 22, 'prompt_tokens': 150, 'total_tokens': 172, 'completion_tokens_details': {'accepted_prediction_tokens': 0, 'audio_tokens': 0, 'reasoning_tokens': 0, 'rejected_prediction_tokens': 0}, 'prompt_tokens_details': {'audio_tokens': 0, 'cached_tokens': 0}}, 'model_name': 'gpt-4o', 'system_fingerprint': 'fp_62f96df568', 'finish_reason': 'tool_calls', 'logprobs': None}, id='run-8651afe9-6c2a-4034-8830-e0eb9c5920cf-0', tool_calls=[{'name': 'tavily_search_results_json', 'args': {'query': 'current weather in Los Angeles'}, 'id': 'call_qpba6g9BjomRyPhqaxwMMxMc', 'type': 'tool_call'}], usage_metadata={'input_tokens': 150, 'output_tokens': 22, 'total_tokens': 172, 'input_token_details': {'audio': 0, 'cache_read': 0}, 'output_token_details': {'audio': 0, 'reasoning': 0}})]}, next=('action',), config={'configurable': {'thread_id': '6', 'checkpoint_ns': '', 'checkpoint_id': '1efa3081-06b0-61b4-8001-4147727161fa'}}, metadata={'source': 'loop', 'writes': {'llm': {'messages': [AIMessage(content='', additional_kwargs={'tool_calls': [{'id': 'call_qpba6g9BjomRyPhqaxwMMxMc', 'function': {'arguments': '{\"query\":\"current weather in Los Angeles\"}', 'name': 'tavily_search_results_json'}, 'type': 'function'}], 'refusal': None}, response_metadata={'token_usage': {'completion_tokens': 22, 'prompt_tokens': 150, 'total_tokens': 172, 'completion_tokens_details': {'accepted_prediction_tokens': 0, 'audio_tokens': 0, 'reasoning_tokens': 0, 'rejected_prediction_tokens': 0}, 'prompt_tokens_details': {'audio_tokens': 0, 'cached_tokens': 0}}, 'model_name': 'gpt-4o', 'system_fingerprint': 'fp_62f96df568', 'finish_reason': 'tool_calls', 'logprobs': None}, id='run-8651afe9-6c2a-4034-8830-e0eb9c5920cf-0', tool_calls=[{'name': 'tavily_search_results_json', 'args': {'query': 'current weather in Los Angeles'}, 'id': 'call_qpba6g9BjomRyPhqaxwMMxMc', 'type': 'tool_call'}], usage_metadata={'input_tokens': 150, 'output_tokens': 22, 'total_tokens': 172, 'input_token_details': {'audio': 0, 'cache_read': 0}, 'output_token_details': {'audio': 0, 'reasoning': 0}})]}}, 'thread_id': '6', 'step': 1, 'parents': {}}, created_at='2024-11-15T04:14:10.228811+00:00', parent_config={'configurable': {'thread_id': '6', 'checkpoint_ns': '', 'checkpoint_id': '1efa3080-b8a9-629a-8000-f23a48bca3e0'}}, tasks=(PregelTask(id='01d45944-d022-b994-b711-19b98b30e57f', name='action', path=('__pregel_pull', 'action'), error=None, interrupts=(), state=None, result=None),))\n",
      "--\n",
      "StateSnapshot(values={'messages': [HumanMessage(content='Whats the weather in LA?', additional_kwargs={}, response_metadata={}, id='ef6653bd-8331-47a8-85c7-0e33d8abfec6')]}, next=('llm',), config={'configurable': {'thread_id': '6', 'checkpoint_ns': '', 'checkpoint_id': '1efa3080-b8a9-629a-8000-f23a48bca3e0'}}, metadata={'source': 'loop', 'writes': None, 'thread_id': '6', 'step': 0, 'parents': {}}, created_at='2024-11-15T04:14:02.047121+00:00', parent_config={'configurable': {'thread_id': '6', 'checkpoint_ns': '', 'checkpoint_id': '1efa3080-b8a5-62d0-bfff-ebda45d3954f'}}, tasks=(PregelTask(id='fd178c55-9c25-4612-fa4b-7ed1cccf1b98', name='llm', path=('__pregel_pull', 'llm'), error=None, interrupts=(), state=None, result={'messages': [AIMessage(content='', additional_kwargs={'tool_calls': [{'id': 'call_qpba6g9BjomRyPhqaxwMMxMc', 'function': {'arguments': '{\"query\":\"current weather in Los Angeles\"}', 'name': 'tavily_search_results_json'}, 'type': 'function'}], 'refusal': None}, response_metadata={'token_usage': {'completion_tokens': 22, 'prompt_tokens': 150, 'total_tokens': 172, 'completion_tokens_details': {'accepted_prediction_tokens': 0, 'audio_tokens': 0, 'reasoning_tokens': 0, 'rejected_prediction_tokens': 0}, 'prompt_tokens_details': {'audio_tokens': 0, 'cached_tokens': 0}}, 'model_name': 'gpt-4o', 'system_fingerprint': 'fp_62f96df568', 'finish_reason': 'tool_calls', 'logprobs': None}, id='run-8651afe9-6c2a-4034-8830-e0eb9c5920cf-0', tool_calls=[{'name': 'tavily_search_results_json', 'args': {'query': 'current weather in Los Angeles'}, 'id': 'call_qpba6g9BjomRyPhqaxwMMxMc', 'type': 'tool_call'}], usage_metadata={'input_tokens': 150, 'output_tokens': 22, 'total_tokens': 172, 'input_token_details': {'audio': 0, 'cache_read': 0}, 'output_token_details': {'audio': 0, 'reasoning': 0}})]}),))\n",
      "--\n",
      "StateSnapshot(values={'messages': []}, next=('__start__',), config={'configurable': {'thread_id': '6', 'checkpoint_ns': '', 'checkpoint_id': '1efa3080-b8a5-62d0-bfff-ebda45d3954f'}}, metadata={'source': 'input', 'writes': {'__start__': {'messages': [HumanMessage(content='Whats the weather in LA?', additional_kwargs={}, response_metadata={})]}}, 'thread_id': '6', 'step': -1, 'parents': {}}, created_at='2024-11-15T04:14:02.045490+00:00', parent_config=None, tasks=(PregelTask(id='b7c6403b-c7ba-85bf-348f-383c9a6cf7cc', name='__start__', path=('__pregel_pull', '__start__'), error=None, interrupts=(), state=None, result={'messages': [HumanMessage(content='Whats the weather in LA?', additional_kwargs={}, response_metadata={}, id='ef6653bd-8331-47a8-85c7-0e33d8abfec6')]}),))\n",
      "--\n"
     ]
    }
   ],
   "source": [
    "states = []\n",
    "for state in abot.graph.get_state_history(thread):\n",
    "    print(state)\n",
    "    print('--')\n",
    "    states.append(state)"
   ]
  },
  {
   "cell_type": "code",
   "execution_count": 58,
   "id": "d92859e8-69b4-4d8e-88a2-ffa33fc1a872",
   "metadata": {},
   "outputs": [],
   "source": [
    "to_replay = states[-3]"
   ]
  },
  {
   "cell_type": "code",
   "execution_count": 60,
   "id": "4eedbce5-5e3f-4c3e-a5cf-08e0f8b47a60",
   "metadata": {},
   "outputs": [
    {
     "data": {
      "text/plain": [
       "StateSnapshot(values={'messages': [HumanMessage(content='Whats the weather in LA?', additional_kwargs={}, response_metadata={}, id='ef6653bd-8331-47a8-85c7-0e33d8abfec6'), AIMessage(content='', additional_kwargs={'tool_calls': [{'id': 'call_qpba6g9BjomRyPhqaxwMMxMc', 'function': {'arguments': '{\"query\":\"current weather in Los Angeles\"}', 'name': 'tavily_search_results_json'}, 'type': 'function'}], 'refusal': None}, response_metadata={'token_usage': {'completion_tokens': 22, 'prompt_tokens': 150, 'total_tokens': 172, 'completion_tokens_details': {'accepted_prediction_tokens': 0, 'audio_tokens': 0, 'reasoning_tokens': 0, 'rejected_prediction_tokens': 0}, 'prompt_tokens_details': {'audio_tokens': 0, 'cached_tokens': 0}}, 'model_name': 'gpt-4o', 'system_fingerprint': 'fp_62f96df568', 'finish_reason': 'tool_calls', 'logprobs': None}, id='run-8651afe9-6c2a-4034-8830-e0eb9c5920cf-0', tool_calls=[{'name': 'tavily_search_results_json', 'args': {'query': 'current weather in Los Angeles'}, 'id': 'call_qpba6g9BjomRyPhqaxwMMxMc', 'type': 'tool_call'}], usage_metadata={'input_tokens': 150, 'output_tokens': 22, 'total_tokens': 172, 'input_token_details': {'audio': 0, 'cache_read': 0}, 'output_token_details': {'audio': 0, 'reasoning': 0}})]}, next=('action',), config={'configurable': {'thread_id': '6', 'checkpoint_ns': '', 'checkpoint_id': '1efa3081-06b0-61b4-8001-4147727161fa'}}, metadata={'source': 'loop', 'writes': {'llm': {'messages': [AIMessage(content='', additional_kwargs={'tool_calls': [{'id': 'call_qpba6g9BjomRyPhqaxwMMxMc', 'function': {'arguments': '{\"query\":\"current weather in Los Angeles\"}', 'name': 'tavily_search_results_json'}, 'type': 'function'}], 'refusal': None}, response_metadata={'token_usage': {'completion_tokens': 22, 'prompt_tokens': 150, 'total_tokens': 172, 'completion_tokens_details': {'accepted_prediction_tokens': 0, 'audio_tokens': 0, 'reasoning_tokens': 0, 'rejected_prediction_tokens': 0}, 'prompt_tokens_details': {'audio_tokens': 0, 'cached_tokens': 0}}, 'model_name': 'gpt-4o', 'system_fingerprint': 'fp_62f96df568', 'finish_reason': 'tool_calls', 'logprobs': None}, id='run-8651afe9-6c2a-4034-8830-e0eb9c5920cf-0', tool_calls=[{'name': 'tavily_search_results_json', 'args': {'query': 'current weather in Los Angeles'}, 'id': 'call_qpba6g9BjomRyPhqaxwMMxMc', 'type': 'tool_call'}], usage_metadata={'input_tokens': 150, 'output_tokens': 22, 'total_tokens': 172, 'input_token_details': {'audio': 0, 'cache_read': 0}, 'output_token_details': {'audio': 0, 'reasoning': 0}})]}}, 'thread_id': '6', 'step': 1, 'parents': {}}, created_at='2024-11-15T04:14:10.228811+00:00', parent_config={'configurable': {'thread_id': '6', 'checkpoint_ns': '', 'checkpoint_id': '1efa3080-b8a9-629a-8000-f23a48bca3e0'}}, tasks=(PregelTask(id='01d45944-d022-b994-b711-19b98b30e57f', name='action', path=('__pregel_pull', 'action'), error=None, interrupts=(), state=None, result=None),))"
      ]
     },
     "execution_count": 60,
     "metadata": {},
     "output_type": "execute_result"
    }
   ],
   "source": [
    "to_replay"
   ]
  },
  {
   "cell_type": "code",
   "execution_count": 62,
   "id": "77602dcb-7a73-49ea-be39-32ae0d6c3283",
   "metadata": {},
   "outputs": [
    {
     "name": "stdout",
     "output_type": "stream",
     "text": [
      "Calling: {'name': 'tavily_search_results_json', 'args': {'query': 'current weather in Los Angeles'}, 'id': 'call_qpba6g9BjomRyPhqaxwMMxMc', 'type': 'tool_call'}\n",
      "Back to the model!\n",
      "{'messages': [ToolMessage(content='[{\\'url\\': \\'https://www.weatherapi.com/\\', \\'content\\': \"{\\'location\\': {\\'name\\': \\'Los Angeles\\', \\'region\\': \\'California\\', \\'country\\': \\'United States of America\\', \\'lat\\': 34.0522, \\'lon\\': -118.2428, \\'tz_id\\': \\'America/Los_Angeles\\', \\'localtime_epoch\\': 1731644597, \\'localtime\\': \\'2024-11-14 20:23\\'}, \\'current\\': {\\'last_updated_epoch\\': 1731644100, \\'last_updated\\': \\'2024-11-14 20:15\\', \\'temp_c\\': 15.6, \\'temp_f\\': 60.1, \\'is_day\\': 0, \\'condition\\': {\\'text\\': \\'Clear\\', \\'icon\\': \\'//cdn.weatherapi.com/weather/64x64/night/113.png\\', \\'code\\': 1000}, \\'wind_mph\\': 4.5, \\'wind_kph\\': 7.2, \\'wind_degree\\': 204, \\'wind_dir\\': \\'SSW\\', \\'pressure_mb\\': 1012.0, \\'pressure_in\\': 29.87, \\'precip_mm\\': 0.0, \\'precip_in\\': 0.0, \\'humidity\\': 78, \\'cloud\\': 0, \\'feelslike_c\\': 15.6, \\'feelslike_f\\': 60.1, \\'windchill_c\\': 15.7, \\'windchill_f\\': 60.3, \\'heatindex_c\\': 15.9, \\'heatindex_f\\': 60.6, \\'dewpoint_c\\': 9.6, \\'dewpoint_f\\': 49.3, \\'vis_km\\': 16.0, \\'vis_miles\\': 9.0, \\'uv\\': 0.0, \\'gust_mph\\': 5.8, \\'gust_kph\\': 9.3}}\"}, {\\'url\\': \\'https://www.weather.gov/lox/\\', \\'content\\': \\'NOAA National Weather Service Los Angeles, CA. HOME. FORECAST. Local; ... Thu, Nov 14, 2024 at 12:06:11 am PST Watches, Warnings & Advisories. Zoom Out. Winter Weather Advisory. High Surf Advisory. Small Craft Advisory. Wind Advisory. Frost Advisory. Gale Watch . Text Product Selector (Selected product opens in current window) Hazards\\'}]', name='tavily_search_results_json', id='3e70d462-6471-4e26-84da-eb8ce22fc246', tool_call_id='call_qpba6g9BjomRyPhqaxwMMxMc')]}\n",
      "{'messages': [HumanMessage(content='Whats the weather in LA?', additional_kwargs={}, response_metadata={}, id='ef6653bd-8331-47a8-85c7-0e33d8abfec6'), AIMessage(content='', additional_kwargs={'tool_calls': [{'id': 'call_qpba6g9BjomRyPhqaxwMMxMc', 'function': {'arguments': '{\"query\":\"current weather in Los Angeles\"}', 'name': 'tavily_search_results_json'}, 'type': 'function'}], 'refusal': None}, response_metadata={'token_usage': {'completion_tokens': 22, 'prompt_tokens': 150, 'total_tokens': 172, 'completion_tokens_details': {'accepted_prediction_tokens': 0, 'audio_tokens': 0, 'reasoning_tokens': 0, 'rejected_prediction_tokens': 0}, 'prompt_tokens_details': {'audio_tokens': 0, 'cached_tokens': 0}}, 'model_name': 'gpt-4o', 'system_fingerprint': 'fp_62f96df568', 'finish_reason': 'tool_calls', 'logprobs': None}, id='run-8651afe9-6c2a-4034-8830-e0eb9c5920cf-0', tool_calls=[{'name': 'tavily_search_results_json', 'args': {'query': 'current weather in Los Angeles'}, 'id': 'call_qpba6g9BjomRyPhqaxwMMxMc', 'type': 'tool_call'}], usage_metadata={'input_tokens': 150, 'output_tokens': 22, 'total_tokens': 172, 'input_token_details': {'audio': 0, 'cache_read': 0}, 'output_token_details': {'audio': 0, 'reasoning': 0}}), ToolMessage(content='[{\\'url\\': \\'https://www.weatherapi.com/\\', \\'content\\': \"{\\'location\\': {\\'name\\': \\'Los Angeles\\', \\'region\\': \\'California\\', \\'country\\': \\'United States of America\\', \\'lat\\': 34.0522, \\'lon\\': -118.2428, \\'tz_id\\': \\'America/Los_Angeles\\', \\'localtime_epoch\\': 1731644597, \\'localtime\\': \\'2024-11-14 20:23\\'}, \\'current\\': {\\'last_updated_epoch\\': 1731644100, \\'last_updated\\': \\'2024-11-14 20:15\\', \\'temp_c\\': 15.6, \\'temp_f\\': 60.1, \\'is_day\\': 0, \\'condition\\': {\\'text\\': \\'Clear\\', \\'icon\\': \\'//cdn.weatherapi.com/weather/64x64/night/113.png\\', \\'code\\': 1000}, \\'wind_mph\\': 4.5, \\'wind_kph\\': 7.2, \\'wind_degree\\': 204, \\'wind_dir\\': \\'SSW\\', \\'pressure_mb\\': 1012.0, \\'pressure_in\\': 29.87, \\'precip_mm\\': 0.0, \\'precip_in\\': 0.0, \\'humidity\\': 78, \\'cloud\\': 0, \\'feelslike_c\\': 15.6, \\'feelslike_f\\': 60.1, \\'windchill_c\\': 15.7, \\'windchill_f\\': 60.3, \\'heatindex_c\\': 15.9, \\'heatindex_f\\': 60.6, \\'dewpoint_c\\': 9.6, \\'dewpoint_f\\': 49.3, \\'vis_km\\': 16.0, \\'vis_miles\\': 9.0, \\'uv\\': 0.0, \\'gust_mph\\': 5.8, \\'gust_kph\\': 9.3}}\"}, {\\'url\\': \\'https://www.weather.gov/lox/\\', \\'content\\': \\'NOAA National Weather Service Los Angeles, CA. HOME. FORECAST. Local; ... Thu, Nov 14, 2024 at 12:06:11 am PST Watches, Warnings & Advisories. Zoom Out. Winter Weather Advisory. High Surf Advisory. Small Craft Advisory. Wind Advisory. Frost Advisory. Gale Watch . Text Product Selector (Selected product opens in current window) Hazards\\'}]', name='tavily_search_results_json', id='3e70d462-6471-4e26-84da-eb8ce22fc246', tool_call_id='call_qpba6g9BjomRyPhqaxwMMxMc'), AIMessage(content='The current weather in Los Angeles is clear with a temperature of 15.6°C (60.1°F). The wind is coming from the south-southwest at 4.5 mph (7.2 kph), and the humidity is at 78%. There is no precipitation, and visibility is 16 km (9 miles).', additional_kwargs={'refusal': None}, response_metadata={'token_usage': {'completion_tokens': 70, 'prompt_tokens': 688, 'total_tokens': 758, 'completion_tokens_details': {'accepted_prediction_tokens': 0, 'audio_tokens': 0, 'reasoning_tokens': 0, 'rejected_prediction_tokens': 0}, 'prompt_tokens_details': {'audio_tokens': 0, 'cached_tokens': 0}}, 'model_name': 'gpt-4o', 'system_fingerprint': 'fp_62f96df568', 'finish_reason': 'stop', 'logprobs': None}, id='run-a9cb1904-c2ae-4dcc-9ddd-d9f6955d0fe9-0', usage_metadata={'input_tokens': 688, 'output_tokens': 70, 'total_tokens': 758, 'input_token_details': {'audio': 0, 'cache_read': 0}, 'output_token_details': {'audio': 0, 'reasoning': 0}})]}\n",
      "{'messages': [AIMessage(content='The current weather in Los Angeles is clear with a temperature of 15.6°C (60.1°F). The wind is coming from the south-southwest at 4.5 mph (7.2 kph), and the humidity is at 78%. There is no precipitation, and visibility is 16 km (9 miles).', additional_kwargs={'refusal': None}, response_metadata={'token_usage': {'completion_tokens': 70, 'prompt_tokens': 688, 'total_tokens': 758, 'completion_tokens_details': {'accepted_prediction_tokens': 0, 'audio_tokens': 0, 'reasoning_tokens': 0, 'rejected_prediction_tokens': 0}, 'prompt_tokens_details': {'audio_tokens': 0, 'cached_tokens': 0}}, 'model_name': 'gpt-4o', 'system_fingerprint': 'fp_62f96df568', 'finish_reason': 'stop', 'logprobs': None}, id='run-a9cb1904-c2ae-4dcc-9ddd-d9f6955d0fe9-0', usage_metadata={'input_tokens': 688, 'output_tokens': 70, 'total_tokens': 758, 'input_token_details': {'audio': 0, 'cache_read': 0}, 'output_token_details': {'audio': 0, 'reasoning': 0}})]}\n"
     ]
    }
   ],
   "source": [
    "for event in abot.graph.stream(None, to_replay.config):\n",
    "    for k, v in event.items():\n",
    "        print(v)"
   ]
  },
  {
   "cell_type": "code",
   "execution_count": 64,
   "id": "ce29a1c3-4820-4226-a176-0e290e602b78",
   "metadata": {},
   "outputs": [],
   "source": [
    "_id = to_replay.values['messages'][-1].tool_calls[0]['id']\n",
    "to_replay.values['messages'][-1].tool_calls = [{'name': 'tavily_search_results_json',\n",
    "  'args': {'query': 'current weather in LA, accuweather'},\n",
    "  'id': _id,\n",
    "    'type': 'tool_call'}]"
   ]
  },
  {
   "cell_type": "code",
   "execution_count": 66,
   "id": "77cc00ae-bbb3-4844-9ffe-12c0bd65dc89",
   "metadata": {},
   "outputs": [
    {
     "name": "stdout",
     "output_type": "stream",
     "text": [
      "{'messages': [HumanMessage(content='Whats the weather in LA?', additional_kwargs={}, response_metadata={}, id='ef6653bd-8331-47a8-85c7-0e33d8abfec6'), AIMessage(content='', additional_kwargs={'tool_calls': [{'id': 'call_qpba6g9BjomRyPhqaxwMMxMc', 'function': {'arguments': '{\"query\":\"current weather in Los Angeles\"}', 'name': 'tavily_search_results_json'}, 'type': 'function'}], 'refusal': None}, response_metadata={'token_usage': {'completion_tokens': 22, 'prompt_tokens': 150, 'total_tokens': 172, 'completion_tokens_details': {'accepted_prediction_tokens': 0, 'audio_tokens': 0, 'reasoning_tokens': 0, 'rejected_prediction_tokens': 0}, 'prompt_tokens_details': {'audio_tokens': 0, 'cached_tokens': 0}}, 'model_name': 'gpt-4o', 'system_fingerprint': 'fp_62f96df568', 'finish_reason': 'tool_calls', 'logprobs': None}, id='run-8651afe9-6c2a-4034-8830-e0eb9c5920cf-0', tool_calls=[{'name': 'tavily_search_results_json', 'args': {'query': 'current weather in LA, accuweather'}, 'id': 'call_qpba6g9BjomRyPhqaxwMMxMc', 'type': 'tool_call'}], usage_metadata={'input_tokens': 150, 'output_tokens': 22, 'total_tokens': 172, 'input_token_details': {'audio': 0, 'cache_read': 0}, 'output_token_details': {'audio': 0, 'reasoning': 0}})]}\n"
     ]
    }
   ],
   "source": [
    "branch_state = abot.graph.update_state(to_replay.config, to_replay.values)"
   ]
  },
  {
   "cell_type": "code",
   "execution_count": 68,
   "id": "bea37ebd-2431-4630-8341-455e9e6cddd6",
   "metadata": {},
   "outputs": [
    {
     "name": "stdout",
     "output_type": "stream",
     "text": [
      "Calling: {'name': 'tavily_search_results_json', 'args': {'query': 'current weather in LA, accuweather'}, 'id': 'call_qpba6g9BjomRyPhqaxwMMxMc', 'type': 'tool_call'}\n",
      "Back to the model!\n",
      "{'messages': [ToolMessage(content='[{\\'url\\': \\'https://www.weatherapi.com/\\', \\'content\\': \"{\\'location\\': {\\'name\\': \\'Los Angeles\\', \\'region\\': \\'California\\', \\'country\\': \\'United States of America\\', \\'lat\\': 34.0522, \\'lon\\': -118.2428, \\'tz_id\\': \\'America/Los_Angeles\\', \\'localtime_epoch\\': 1731644597, \\'localtime\\': \\'2024-11-14 20:23\\'}, \\'current\\': {\\'last_updated_epoch\\': 1731644100, \\'last_updated\\': \\'2024-11-14 20:15\\', \\'temp_c\\': 15.6, \\'temp_f\\': 60.1, \\'is_day\\': 0, \\'condition\\': {\\'text\\': \\'Clear\\', \\'icon\\': \\'//cdn.weatherapi.com/weather/64x64/night/113.png\\', \\'code\\': 1000}, \\'wind_mph\\': 4.5, \\'wind_kph\\': 7.2, \\'wind_degree\\': 204, \\'wind_dir\\': \\'SSW\\', \\'pressure_mb\\': 1012.0, \\'pressure_in\\': 29.87, \\'precip_mm\\': 0.0, \\'precip_in\\': 0.0, \\'humidity\\': 78, \\'cloud\\': 0, \\'feelslike_c\\': 15.6, \\'feelslike_f\\': 60.1, \\'windchill_c\\': 15.7, \\'windchill_f\\': 60.3, \\'heatindex_c\\': 15.9, \\'heatindex_f\\': 60.6, \\'dewpoint_c\\': 9.6, \\'dewpoint_f\\': 49.3, \\'vis_km\\': 16.0, \\'vis_miles\\': 9.0, \\'uv\\': 0.0, \\'gust_mph\\': 5.8, \\'gust_kph\\': 9.3}}\"}, {\\'url\\': \\'https://www.accuweather.com/en/us/los-angeles/90012/current-weather/347625\\', \\'content\\': \\'Current weather in Los Angeles, CA. Check current conditions in Los Angeles, CA with radar, hourly, and more.\\'}]', name='tavily_search_results_json', id='8d00297e-829a-432b-9679-71255641cd65', tool_call_id='call_qpba6g9BjomRyPhqaxwMMxMc')]}\n",
      "{'messages': [HumanMessage(content='Whats the weather in LA?', additional_kwargs={}, response_metadata={}, id='ef6653bd-8331-47a8-85c7-0e33d8abfec6'), AIMessage(content='', additional_kwargs={'tool_calls': [{'id': 'call_qpba6g9BjomRyPhqaxwMMxMc', 'function': {'arguments': '{\"query\":\"current weather in Los Angeles\"}', 'name': 'tavily_search_results_json'}, 'type': 'function'}], 'refusal': None}, response_metadata={'token_usage': {'completion_tokens': 22, 'prompt_tokens': 150, 'total_tokens': 172, 'completion_tokens_details': {'accepted_prediction_tokens': 0, 'audio_tokens': 0, 'reasoning_tokens': 0, 'rejected_prediction_tokens': 0}, 'prompt_tokens_details': {'audio_tokens': 0, 'cached_tokens': 0}}, 'model_name': 'gpt-4o', 'system_fingerprint': 'fp_62f96df568', 'finish_reason': 'tool_calls', 'logprobs': None}, id='run-8651afe9-6c2a-4034-8830-e0eb9c5920cf-0', tool_calls=[{'name': 'tavily_search_results_json', 'args': {'query': 'current weather in LA, accuweather'}, 'id': 'call_qpba6g9BjomRyPhqaxwMMxMc', 'type': 'tool_call'}], usage_metadata={'input_tokens': 150, 'output_tokens': 22, 'total_tokens': 172, 'input_token_details': {'audio': 0, 'cache_read': 0}, 'output_token_details': {'audio': 0, 'reasoning': 0}}), ToolMessage(content='[{\\'url\\': \\'https://www.weatherapi.com/\\', \\'content\\': \"{\\'location\\': {\\'name\\': \\'Los Angeles\\', \\'region\\': \\'California\\', \\'country\\': \\'United States of America\\', \\'lat\\': 34.0522, \\'lon\\': -118.2428, \\'tz_id\\': \\'America/Los_Angeles\\', \\'localtime_epoch\\': 1731644597, \\'localtime\\': \\'2024-11-14 20:23\\'}, \\'current\\': {\\'last_updated_epoch\\': 1731644100, \\'last_updated\\': \\'2024-11-14 20:15\\', \\'temp_c\\': 15.6, \\'temp_f\\': 60.1, \\'is_day\\': 0, \\'condition\\': {\\'text\\': \\'Clear\\', \\'icon\\': \\'//cdn.weatherapi.com/weather/64x64/night/113.png\\', \\'code\\': 1000}, \\'wind_mph\\': 4.5, \\'wind_kph\\': 7.2, \\'wind_degree\\': 204, \\'wind_dir\\': \\'SSW\\', \\'pressure_mb\\': 1012.0, \\'pressure_in\\': 29.87, \\'precip_mm\\': 0.0, \\'precip_in\\': 0.0, \\'humidity\\': 78, \\'cloud\\': 0, \\'feelslike_c\\': 15.6, \\'feelslike_f\\': 60.1, \\'windchill_c\\': 15.7, \\'windchill_f\\': 60.3, \\'heatindex_c\\': 15.9, \\'heatindex_f\\': 60.6, \\'dewpoint_c\\': 9.6, \\'dewpoint_f\\': 49.3, \\'vis_km\\': 16.0, \\'vis_miles\\': 9.0, \\'uv\\': 0.0, \\'gust_mph\\': 5.8, \\'gust_kph\\': 9.3}}\"}, {\\'url\\': \\'https://www.accuweather.com/en/us/los-angeles/90012/current-weather/347625\\', \\'content\\': \\'Current weather in Los Angeles, CA. Check current conditions in Los Angeles, CA with radar, hourly, and more.\\'}]', name='tavily_search_results_json', id='8d00297e-829a-432b-9679-71255641cd65', tool_call_id='call_qpba6g9BjomRyPhqaxwMMxMc'), AIMessage(content='The current weather in Los Angeles is clear with a temperature of 15.6°C (60.1°F). The wind is coming from the south-southwest at 4.5 mph (7.2 kph). The humidity is at 78%, and there is no precipitation. Conditions are calm with good visibility.', additional_kwargs={'refusal': None}, response_metadata={'token_usage': {'completion_tokens': 67, 'prompt_tokens': 647, 'total_tokens': 714, 'completion_tokens_details': {'accepted_prediction_tokens': 0, 'audio_tokens': 0, 'reasoning_tokens': 0, 'rejected_prediction_tokens': 0}, 'prompt_tokens_details': {'audio_tokens': 0, 'cached_tokens': 0}}, 'model_name': 'gpt-4o', 'system_fingerprint': 'fp_62f96df568', 'finish_reason': 'stop', 'logprobs': None}, id='run-bf1868da-7567-4a21-81bc-49a0441bb0df-0', usage_metadata={'input_tokens': 647, 'output_tokens': 67, 'total_tokens': 714, 'input_token_details': {'audio': 0, 'cache_read': 0}, 'output_token_details': {'audio': 0, 'reasoning': 0}})]}\n",
      "{'messages': [AIMessage(content='The current weather in Los Angeles is clear with a temperature of 15.6°C (60.1°F). The wind is coming from the south-southwest at 4.5 mph (7.2 kph). The humidity is at 78%, and there is no precipitation. Conditions are calm with good visibility.', additional_kwargs={'refusal': None}, response_metadata={'token_usage': {'completion_tokens': 67, 'prompt_tokens': 647, 'total_tokens': 714, 'completion_tokens_details': {'accepted_prediction_tokens': 0, 'audio_tokens': 0, 'reasoning_tokens': 0, 'rejected_prediction_tokens': 0}, 'prompt_tokens_details': {'audio_tokens': 0, 'cached_tokens': 0}}, 'model_name': 'gpt-4o', 'system_fingerprint': 'fp_62f96df568', 'finish_reason': 'stop', 'logprobs': None}, id='run-bf1868da-7567-4a21-81bc-49a0441bb0df-0', usage_metadata={'input_tokens': 647, 'output_tokens': 67, 'total_tokens': 714, 'input_token_details': {'audio': 0, 'cache_read': 0}, 'output_token_details': {'audio': 0, 'reasoning': 0}})]}\n"
     ]
    }
   ],
   "source": [
    "for event in abot.graph.stream(None, branch_state):\n",
    "    for k, v in event.items():\n",
    "        if k != \"__end__\":\n",
    "            print(v)"
   ]
  },
  {
   "cell_type": "code",
   "execution_count": 70,
   "id": "9d3704c1-e909-4967-b964-1a089645a30c",
   "metadata": {},
   "outputs": [
    {
     "data": {
      "text/plain": [
       "StateSnapshot(values={'messages': [HumanMessage(content='Whats the weather in LA?', additional_kwargs={}, response_metadata={}, id='ef6653bd-8331-47a8-85c7-0e33d8abfec6'), AIMessage(content='', additional_kwargs={'tool_calls': [{'id': 'call_qpba6g9BjomRyPhqaxwMMxMc', 'function': {'arguments': '{\"query\":\"current weather in Los Angeles\"}', 'name': 'tavily_search_results_json'}, 'type': 'function'}], 'refusal': None}, response_metadata={'token_usage': {'completion_tokens': 22, 'prompt_tokens': 150, 'total_tokens': 172, 'completion_tokens_details': {'accepted_prediction_tokens': 0, 'audio_tokens': 0, 'reasoning_tokens': 0, 'rejected_prediction_tokens': 0}, 'prompt_tokens_details': {'audio_tokens': 0, 'cached_tokens': 0}}, 'model_name': 'gpt-4o', 'system_fingerprint': 'fp_62f96df568', 'finish_reason': 'tool_calls', 'logprobs': None}, id='run-8651afe9-6c2a-4034-8830-e0eb9c5920cf-0', tool_calls=[{'name': 'tavily_search_results_json', 'args': {'query': 'current weather in LA, accuweather'}, 'id': 'call_qpba6g9BjomRyPhqaxwMMxMc', 'type': 'tool_call'}], usage_metadata={'input_tokens': 150, 'output_tokens': 22, 'total_tokens': 172, 'input_token_details': {'audio': 0, 'cache_read': 0}, 'output_token_details': {'audio': 0, 'reasoning': 0}})]}, next=('action',), config={'configurable': {'thread_id': '6', 'checkpoint_ns': '', 'checkpoint_id': '1efa3081-06b0-61b4-8001-4147727161fa'}}, metadata={'source': 'loop', 'writes': {'llm': {'messages': [AIMessage(content='', additional_kwargs={'tool_calls': [{'id': 'call_qpba6g9BjomRyPhqaxwMMxMc', 'function': {'arguments': '{\"query\":\"current weather in Los Angeles\"}', 'name': 'tavily_search_results_json'}, 'type': 'function'}], 'refusal': None}, response_metadata={'token_usage': {'completion_tokens': 22, 'prompt_tokens': 150, 'total_tokens': 172, 'completion_tokens_details': {'accepted_prediction_tokens': 0, 'audio_tokens': 0, 'reasoning_tokens': 0, 'rejected_prediction_tokens': 0}, 'prompt_tokens_details': {'audio_tokens': 0, 'cached_tokens': 0}}, 'model_name': 'gpt-4o', 'system_fingerprint': 'fp_62f96df568', 'finish_reason': 'tool_calls', 'logprobs': None}, id='run-8651afe9-6c2a-4034-8830-e0eb9c5920cf-0', tool_calls=[{'name': 'tavily_search_results_json', 'args': {'query': 'current weather in Los Angeles'}, 'id': 'call_qpba6g9BjomRyPhqaxwMMxMc', 'type': 'tool_call'}], usage_metadata={'input_tokens': 150, 'output_tokens': 22, 'total_tokens': 172, 'input_token_details': {'audio': 0, 'cache_read': 0}, 'output_token_details': {'audio': 0, 'reasoning': 0}})]}}, 'thread_id': '6', 'step': 1, 'parents': {}}, created_at='2024-11-15T04:14:10.228811+00:00', parent_config={'configurable': {'thread_id': '6', 'checkpoint_ns': '', 'checkpoint_id': '1efa3080-b8a9-629a-8000-f23a48bca3e0'}}, tasks=(PregelTask(id='01d45944-d022-b994-b711-19b98b30e57f', name='action', path=('__pregel_pull', 'action'), error=None, interrupts=(), state=None, result=None),))"
      ]
     },
     "execution_count": 70,
     "metadata": {},
     "output_type": "execute_result"
    }
   ],
   "source": [
    "to_replay"
   ]
  },
  {
   "cell_type": "markdown",
   "id": "141f45f8-ad47-4bd6-9395-c8609a0314b2",
   "metadata": {},
   "source": [
    "## add message to state in a given time"
   ]
  },
  {
   "cell_type": "code",
   "execution_count": 72,
   "id": "cc798ec6-fc18-4b6e-9f33-73153f07e94b",
   "metadata": {},
   "outputs": [],
   "source": [
    "_id = to_replay.values['messages'][-1].tool_calls[0]['id']"
   ]
  },
  {
   "cell_type": "code",
   "execution_count": 74,
   "id": "7304414e-8989-4fcb-88cd-2ab5b3caedfc",
   "metadata": {},
   "outputs": [],
   "source": [
    "state_update = {\"messages\": [ToolMessage(\n",
    "    tool_call_id=_id,\n",
    "    name=\"tavily_search_results_json\",\n",
    "    content=\"54 degree celcius\",\n",
    ")]}"
   ]
  },
  {
   "cell_type": "code",
   "execution_count": 76,
   "id": "d912e61b-1748-42fe-9fd7-0855f6947695",
   "metadata": {},
   "outputs": [],
   "source": [
    "branch_and_add = abot.graph.update_state(\n",
    "    to_replay.config, \n",
    "    state_update, \n",
    "    as_node=\"action\")"
   ]
  },
  {
   "cell_type": "code",
   "execution_count": 78,
   "id": "297b7035-259e-4de4-955a-25f8a894cb41",
   "metadata": {},
   "outputs": [
    {
     "name": "stdout",
     "output_type": "stream",
     "text": [
      "{'messages': [HumanMessage(content='Whats the weather in LA?', additional_kwargs={}, response_metadata={}, id='ef6653bd-8331-47a8-85c7-0e33d8abfec6'), AIMessage(content='', additional_kwargs={'tool_calls': [{'id': 'call_qpba6g9BjomRyPhqaxwMMxMc', 'function': {'arguments': '{\"query\":\"current weather in Los Angeles\"}', 'name': 'tavily_search_results_json'}, 'type': 'function'}], 'refusal': None}, response_metadata={'token_usage': {'completion_tokens': 22, 'prompt_tokens': 150, 'total_tokens': 172, 'completion_tokens_details': {'accepted_prediction_tokens': 0, 'audio_tokens': 0, 'reasoning_tokens': 0, 'rejected_prediction_tokens': 0}, 'prompt_tokens_details': {'audio_tokens': 0, 'cached_tokens': 0}}, 'model_name': 'gpt-4o', 'system_fingerprint': 'fp_62f96df568', 'finish_reason': 'tool_calls', 'logprobs': None}, id='run-8651afe9-6c2a-4034-8830-e0eb9c5920cf-0', tool_calls=[{'name': 'tavily_search_results_json', 'args': {'query': 'current weather in Los Angeles'}, 'id': 'call_qpba6g9BjomRyPhqaxwMMxMc', 'type': 'tool_call'}], usage_metadata={'input_tokens': 150, 'output_tokens': 22, 'total_tokens': 172, 'input_token_details': {'audio': 0, 'cache_read': 0}, 'output_token_details': {'audio': 0, 'reasoning': 0}}), ToolMessage(content='54 degree celcius', name='tavily_search_results_json', id='0f9d42a8-652d-4d7f-ad93-7980cfd64da3', tool_call_id='call_qpba6g9BjomRyPhqaxwMMxMc'), AIMessage(content='The current temperature in Los Angeles is 54°C.', additional_kwargs={'refusal': None}, response_metadata={'token_usage': {'completion_tokens': 12, 'prompt_tokens': 188, 'total_tokens': 200, 'completion_tokens_details': {'accepted_prediction_tokens': 0, 'audio_tokens': 0, 'reasoning_tokens': 0, 'rejected_prediction_tokens': 0}, 'prompt_tokens_details': {'audio_tokens': 0, 'cached_tokens': 0}}, 'model_name': 'gpt-4o', 'system_fingerprint': 'fp_62f96df568', 'finish_reason': 'stop', 'logprobs': None}, id='run-3a81db44-6d86-4798-aa9e-a4abfe246e4f-0', usage_metadata={'input_tokens': 188, 'output_tokens': 12, 'total_tokens': 200, 'input_token_details': {'audio': 0, 'cache_read': 0}, 'output_token_details': {'audio': 0, 'reasoning': 0}})]}\n",
      "{'messages': [AIMessage(content='The current temperature in Los Angeles is 54°C.', additional_kwargs={'refusal': None}, response_metadata={'token_usage': {'completion_tokens': 12, 'prompt_tokens': 188, 'total_tokens': 200, 'completion_tokens_details': {'accepted_prediction_tokens': 0, 'audio_tokens': 0, 'reasoning_tokens': 0, 'rejected_prediction_tokens': 0}, 'prompt_tokens_details': {'audio_tokens': 0, 'cached_tokens': 0}}, 'model_name': 'gpt-4o', 'system_fingerprint': 'fp_62f96df568', 'finish_reason': 'stop', 'logprobs': None}, id='run-3a81db44-6d86-4798-aa9e-a4abfe246e4f-0', usage_metadata={'input_tokens': 188, 'output_tokens': 12, 'total_tokens': 200, 'input_token_details': {'audio': 0, 'cache_read': 0}, 'output_token_details': {'audio': 0, 'reasoning': 0}})]}\n"
     ]
    }
   ],
   "source": [
    "for event in abot.graph.stream(None, branch_and_add):\n",
    "    for k, v in event.items():\n",
    "        print(v)"
   ]
  },
  {
   "cell_type": "code",
   "execution_count": null,
   "id": "9dc5bfba-2e6b-4a96-be7e-4276ff55517b",
   "metadata": {},
   "outputs": [],
   "source": []
  }
 ],
 "metadata": {
  "kernelspec": {
   "display_name": "Python 3 (ipykernel)",
   "language": "python",
   "name": "python3"
  },
  "language_info": {
   "codemirror_mode": {
    "name": "ipython",
    "version": 3
   },
   "file_extension": ".py",
   "mimetype": "text/x-python",
   "name": "python",
   "nbconvert_exporter": "python",
   "pygments_lexer": "ipython3",
   "version": "3.12.3"
  }
 },
 "nbformat": 4,
 "nbformat_minor": 5
}
